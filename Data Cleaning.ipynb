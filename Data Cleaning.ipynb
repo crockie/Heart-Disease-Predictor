{
 "cells": [
  {
   "cell_type": "code",
   "execution_count": 5,
   "id": "c45098d7",
   "metadata": {},
   "outputs": [],
   "source": [
    "import pandas as pd"
   ]
  },
  {
   "cell_type": "code",
   "execution_count": 6,
   "id": "7585dbb3",
   "metadata": {
    "scrolled": true
   },
   "outputs": [
    {
     "data": {
      "text/plain": [
       "(418268, 342)"
      ]
     },
     "execution_count": 6,
     "metadata": {},
     "output_type": "execute_result"
    }
   ],
   "source": [
    "health_dataset = pd.read_csv('2019.csv')\n",
    "health_dataset.shape"
   ]
  },
  {
   "cell_type": "code",
   "execution_count": 7,
   "id": "e3f64b0e",
   "metadata": {},
   "outputs": [],
   "source": [
    "health_selected = health_dataset[['_MICHD','_RFHYPE5',  'TOLDHI2', 'SMOKE100', '_BMI5', 'CVDSTRK3', 'DIABETE4', \n",
    "                                    '_TOTINDA', '_FRTLT1A', '_VEGLT1A', '_RFDRHV7', 'HLTHPLN1', 'MEDCOST', 'GENHLTH', \n",
    "                                    'MENTHLTH', 'PHYSHLTH', 'DIFFWALK', 'SEXVAR', '_AGEG5YR', 'EDUCA', 'INCOME2']]\n"
   ]
  },
  {
   "cell_type": "code",
   "execution_count": 10,
   "id": "3b3d7695",
   "metadata": {},
   "outputs": [
    {
     "data": {
      "text/plain": [
       "(351875, 21)"
      ]
     },
     "execution_count": 10,
     "metadata": {},
     "output_type": "execute_result"
    }
   ],
   "source": [
    "health_selected = health_selected.dropna() # Drop rows that are NA\n",
    "health_selected.shape"
   ]
  },
  {
   "cell_type": "code",
   "execution_count": 11,
   "id": "08131d21",
   "metadata": {},
   "outputs": [
    {
     "data": {
      "text/html": [
       "<div>\n",
       "<style scoped>\n",
       "    .dataframe tbody tr th:only-of-type {\n",
       "        vertical-align: middle;\n",
       "    }\n",
       "\n",
       "    .dataframe tbody tr th {\n",
       "        vertical-align: top;\n",
       "    }\n",
       "\n",
       "    .dataframe thead th {\n",
       "        text-align: right;\n",
       "    }\n",
       "</style>\n",
       "<table border=\"1\" class=\"dataframe\">\n",
       "  <thead>\n",
       "    <tr style=\"text-align: right;\">\n",
       "      <th></th>\n",
       "      <th>_MICHD</th>\n",
       "      <th>_RFHYPE5</th>\n",
       "      <th>TOLDHI2</th>\n",
       "      <th>SMOKE100</th>\n",
       "      <th>_BMI5</th>\n",
       "      <th>CVDSTRK3</th>\n",
       "      <th>DIABETE4</th>\n",
       "      <th>_TOTINDA</th>\n",
       "      <th>_FRTLT1A</th>\n",
       "      <th>_VEGLT1A</th>\n",
       "      <th>...</th>\n",
       "      <th>HLTHPLN1</th>\n",
       "      <th>MEDCOST</th>\n",
       "      <th>GENHLTH</th>\n",
       "      <th>MENTHLTH</th>\n",
       "      <th>PHYSHLTH</th>\n",
       "      <th>DIFFWALK</th>\n",
       "      <th>SEXVAR</th>\n",
       "      <th>_AGEG5YR</th>\n",
       "      <th>EDUCA</th>\n",
       "      <th>INCOME2</th>\n",
       "    </tr>\n",
       "  </thead>\n",
       "  <tbody>\n",
       "    <tr>\n",
       "      <th>0</th>\n",
       "      <td>2.0</td>\n",
       "      <td>2.0</td>\n",
       "      <td>1.0</td>\n",
       "      <td>1.0</td>\n",
       "      <td>2817.0</td>\n",
       "      <td>2.0</td>\n",
       "      <td>3.0</td>\n",
       "      <td>2.0</td>\n",
       "      <td>1.0</td>\n",
       "      <td>1.0</td>\n",
       "      <td>...</td>\n",
       "      <td>1.0</td>\n",
       "      <td>2.0</td>\n",
       "      <td>3.0</td>\n",
       "      <td>88.0</td>\n",
       "      <td>15.0</td>\n",
       "      <td>1.0</td>\n",
       "      <td>2.0</td>\n",
       "      <td>13.0</td>\n",
       "      <td>3.0</td>\n",
       "      <td>3.0</td>\n",
       "    </tr>\n",
       "    <tr>\n",
       "      <th>1</th>\n",
       "      <td>2.0</td>\n",
       "      <td>1.0</td>\n",
       "      <td>2.0</td>\n",
       "      <td>2.0</td>\n",
       "      <td>1854.0</td>\n",
       "      <td>2.0</td>\n",
       "      <td>3.0</td>\n",
       "      <td>1.0</td>\n",
       "      <td>1.0</td>\n",
       "      <td>1.0</td>\n",
       "      <td>...</td>\n",
       "      <td>1.0</td>\n",
       "      <td>2.0</td>\n",
       "      <td>4.0</td>\n",
       "      <td>88.0</td>\n",
       "      <td>10.0</td>\n",
       "      <td>2.0</td>\n",
       "      <td>2.0</td>\n",
       "      <td>11.0</td>\n",
       "      <td>5.0</td>\n",
       "      <td>5.0</td>\n",
       "    </tr>\n",
       "    <tr>\n",
       "      <th>2</th>\n",
       "      <td>2.0</td>\n",
       "      <td>2.0</td>\n",
       "      <td>2.0</td>\n",
       "      <td>2.0</td>\n",
       "      <td>3162.0</td>\n",
       "      <td>2.0</td>\n",
       "      <td>1.0</td>\n",
       "      <td>1.0</td>\n",
       "      <td>1.0</td>\n",
       "      <td>1.0</td>\n",
       "      <td>...</td>\n",
       "      <td>1.0</td>\n",
       "      <td>2.0</td>\n",
       "      <td>3.0</td>\n",
       "      <td>30.0</td>\n",
       "      <td>88.0</td>\n",
       "      <td>1.0</td>\n",
       "      <td>2.0</td>\n",
       "      <td>10.0</td>\n",
       "      <td>6.0</td>\n",
       "      <td>7.0</td>\n",
       "    </tr>\n",
       "    <tr>\n",
       "      <th>4</th>\n",
       "      <td>2.0</td>\n",
       "      <td>1.0</td>\n",
       "      <td>1.0</td>\n",
       "      <td>1.0</td>\n",
       "      <td>2148.0</td>\n",
       "      <td>2.0</td>\n",
       "      <td>3.0</td>\n",
       "      <td>2.0</td>\n",
       "      <td>1.0</td>\n",
       "      <td>1.0</td>\n",
       "      <td>...</td>\n",
       "      <td>1.0</td>\n",
       "      <td>2.0</td>\n",
       "      <td>2.0</td>\n",
       "      <td>88.0</td>\n",
       "      <td>88.0</td>\n",
       "      <td>2.0</td>\n",
       "      <td>2.0</td>\n",
       "      <td>13.0</td>\n",
       "      <td>5.0</td>\n",
       "      <td>99.0</td>\n",
       "    </tr>\n",
       "    <tr>\n",
       "      <th>6</th>\n",
       "      <td>2.0</td>\n",
       "      <td>1.0</td>\n",
       "      <td>2.0</td>\n",
       "      <td>1.0</td>\n",
       "      <td>3298.0</td>\n",
       "      <td>2.0</td>\n",
       "      <td>1.0</td>\n",
       "      <td>1.0</td>\n",
       "      <td>1.0</td>\n",
       "      <td>1.0</td>\n",
       "      <td>...</td>\n",
       "      <td>1.0</td>\n",
       "      <td>2.0</td>\n",
       "      <td>2.0</td>\n",
       "      <td>88.0</td>\n",
       "      <td>30.0</td>\n",
       "      <td>1.0</td>\n",
       "      <td>1.0</td>\n",
       "      <td>11.0</td>\n",
       "      <td>6.0</td>\n",
       "      <td>7.0</td>\n",
       "    </tr>\n",
       "  </tbody>\n",
       "</table>\n",
       "<p>5 rows × 21 columns</p>\n",
       "</div>"
      ],
      "text/plain": [
       "   _MICHD  _RFHYPE5  TOLDHI2  SMOKE100   _BMI5  CVDSTRK3  DIABETE4  _TOTINDA  \\\n",
       "0     2.0       2.0      1.0       1.0  2817.0       2.0       3.0       2.0   \n",
       "1     2.0       1.0      2.0       2.0  1854.0       2.0       3.0       1.0   \n",
       "2     2.0       2.0      2.0       2.0  3162.0       2.0       1.0       1.0   \n",
       "4     2.0       1.0      1.0       1.0  2148.0       2.0       3.0       2.0   \n",
       "6     2.0       1.0      2.0       1.0  3298.0       2.0       1.0       1.0   \n",
       "\n",
       "   _FRTLT1A  _VEGLT1A  ...  HLTHPLN1  MEDCOST  GENHLTH  MENTHLTH  PHYSHLTH  \\\n",
       "0       1.0       1.0  ...       1.0      2.0      3.0      88.0      15.0   \n",
       "1       1.0       1.0  ...       1.0      2.0      4.0      88.0      10.0   \n",
       "2       1.0       1.0  ...       1.0      2.0      3.0      30.0      88.0   \n",
       "4       1.0       1.0  ...       1.0      2.0      2.0      88.0      88.0   \n",
       "6       1.0       1.0  ...       1.0      2.0      2.0      88.0      30.0   \n",
       "\n",
       "   DIFFWALK  SEXVAR  _AGEG5YR  EDUCA  INCOME2  \n",
       "0       1.0     2.0      13.0    3.0      3.0  \n",
       "1       2.0     2.0      11.0    5.0      5.0  \n",
       "2       1.0     2.0      10.0    6.0      7.0  \n",
       "4       2.0     2.0      13.0    5.0     99.0  \n",
       "6       1.0     1.0      11.0    6.0      7.0  \n",
       "\n",
       "[5 rows x 21 columns]"
      ]
     },
     "execution_count": 11,
     "metadata": {},
     "output_type": "execute_result"
    }
   ],
   "source": [
    "health_selected.head()"
   ]
  },
  {
   "cell_type": "markdown",
   "id": "3caf1d8a",
   "metadata": {},
   "source": [
    "#### Question: Respondents that have ever reported having coronary heart disease (CHD) or myocardial infraction (MI) <br>\n",
    "- 0: No heart disease or heart attack\n",
    "- 1: Has heart disease or heart attack "
   ]
  },
  {
   "cell_type": "code",
   "execution_count": 12,
   "id": "169994ff",
   "metadata": {
    "scrolled": true
   },
   "outputs": [
    {
     "data": {
      "text/plain": [
       "array([0., 1.])"
      ]
     },
     "execution_count": 12,
     "metadata": {},
     "output_type": "execute_result"
    }
   ],
   "source": [
    "health_selected['_MICHD'] = health_selected['_MICHD'].replace({2:0}) # change 2 to 1\n",
    "health_selected._MICHD.unique()"
   ]
  },
  {
   "cell_type": "markdown",
   "id": "072c1eed",
   "metadata": {},
   "source": [
    "#### Question: Question:  Adults who have been told they have high blood pressure by a doctor, nurse, or other health professional<br>\n",
    "- 0: No high blood pressure\n",
    "- 1: Has high blood pressure"
   ]
  },
  {
   "cell_type": "code",
   "execution_count": 13,
   "id": "6f1b76b3",
   "metadata": {
    "scrolled": true
   },
   "outputs": [
    {
     "data": {
      "text/plain": [
       "array([1., 0.])"
      ]
     },
     "execution_count": 13,
     "metadata": {},
     "output_type": "execute_result"
    }
   ],
   "source": [
    "health_selected['_RFHYPE5'] = health_selected['_RFHYPE5'].replace({1:0, 2:1})\n",
    "health_selected = health_selected[health_selected._RFHYPE5 != 9] # Remove people who are not sure\n",
    "health_selected._RFHYPE5.unique()"
   ]
  },
  {
   "cell_type": "markdown",
   "id": "8944a865",
   "metadata": {},
   "source": [
    "#### Question: Question:  Have you ever been told by a doctor, nurse or other health professional that your blood cholesterol is high?<br>\n",
    "- 0: No high chloestrol\n",
    "- 1: Has high chloestrol"
   ]
  },
  {
   "cell_type": "code",
   "execution_count": 15,
   "id": "db67573f",
   "metadata": {},
   "outputs": [
    {
     "data": {
      "text/plain": [
       "array([1., 0.])"
      ]
     },
     "execution_count": 15,
     "metadata": {},
     "output_type": "execute_result"
    }
   ],
   "source": [
    "health_selected['TOLDHI2'] = health_selected['TOLDHI2'].replace({2:0})\n",
    "health_selected = health_selected[health_selected.TOLDHI2 != 9] # Remove people who refused to answer\n",
    "health_selected = health_selected[health_selected.TOLDHI2 != 7] # Remove people who are not sure\n",
    "health_selected.TOLDHI2.unique()"
   ]
  },
  {
   "cell_type": "markdown",
   "id": "950d1860",
   "metadata": {},
   "source": [
    "#### Question: Body Mass Index (BMI)<br>"
   ]
  },
  {
   "cell_type": "code",
   "execution_count": 16,
   "id": "b7979816",
   "metadata": {
    "scrolled": true
   },
   "outputs": [
    {
     "data": {
      "text/plain": [
       "array([ 28.,  19.,  32.,  21.,  33.,  31.,  24.,  17.,  22.,  23.,  26.,\n",
       "        25.,  27.,  35.,  36.,  30.,  16.,  34.,  41.,  29.,  37.,  20.,\n",
       "        42.,  43.,  39.,  55.,  38.,  40.,  18.,  50.,  12.,  45.,  53.,\n",
       "        48.,  47.,  44.,  52.,  46.,  51.,  57.,  49.,  74.,  59.,  60.,\n",
       "        15.,  14.,  54.,  58.,  61.,  63.,  67.,  13.,  70.,  72.,  56.,\n",
       "        62.,  64.,  68.,  69.,  71.,  76.,  73.,  65.,  66.,  92.,  86.,\n",
       "        77.,  75.,  79.,  80.,  82., 100.,  84.,  87.,  88.,  81.,  78.,\n",
       "        97.,  89.,  83.,  99.,  96.,  91.,  98.,  95.,  90.,  94.,  85.])"
      ]
     },
     "execution_count": 16,
     "metadata": {},
     "output_type": "execute_result"
    }
   ],
   "source": [
    "health_selected['_BMI5'] = health_selected['_BMI5'].div(100).round(0) # Divide by 100 to obtain actual BMI value\n",
    "health_selected._BMI5.unique()"
   ]
  },
  {
   "cell_type": "markdown",
   "id": "40825b00",
   "metadata": {},
   "source": [
    "#### Question: Question:  Have you smoked at least 100 cigarettes in your entire life?   [Note:  5 packs = 100 cigarettes]<br>\n",
    "- 0: Not smoker/light smoker\n",
    "- 1: Smoker"
   ]
  },
  {
   "cell_type": "code",
   "execution_count": 17,
   "id": "747adb7d",
   "metadata": {},
   "outputs": [
    {
     "data": {
      "text/plain": [
       "array([1., 0.])"
      ]
     },
     "execution_count": 17,
     "metadata": {},
     "output_type": "execute_result"
    }
   ],
   "source": [
    "health_selected['SMOKE100'] = health_selected['SMOKE100'].replace({2:0})\n",
    "health_selected = health_selected[health_selected.SMOKE100 != 9] # Remove people who refused to answer\n",
    "health_selected = health_selected[health_selected.SMOKE100 != 7] # Remove people who are not sure\n",
    "health_selected.SMOKE100.unique()"
   ]
  },
  {
   "cell_type": "markdown",
   "id": "7cf376bb",
   "metadata": {},
   "source": [
    "#### Question:  (Ever told) you had a stroke.<br>\n",
    "- 0: No stroke\n",
    "- 1: Has stroke"
   ]
  },
  {
   "cell_type": "code",
   "execution_count": 11,
   "id": "45f43e03",
   "metadata": {},
   "outputs": [
    {
     "data": {
      "text/plain": [
       "array([0., 1.])"
      ]
     },
     "execution_count": 11,
     "metadata": {},
     "output_type": "execute_result"
    }
   ],
   "source": [
    "health_selected['CVDSTRK3'] = health_selected['CVDSTRK3'].replace({2:0})\n",
    "health_selected = health_selected[health_selected.CVDSTRK3 != 9] # Remove people who refused to answer\n",
    "health_selected = health_selected[health_selected.CVDSTRK3 != 7] # Remove people who are not sure\n",
    "health_selected.CVDSTRK3.unique()"
   ]
  },
  {
   "cell_type": "markdown",
   "id": "d80d34b4",
   "metadata": {},
   "source": [
    "#### Question:  (Ever told) (you had) diabetes? <br>\n",
    "- 0: No diabetes\n",
    "- 1: Pre-diabetes or borderline diabetes\n",
    "- 2: Has diabetes"
   ]
  },
  {
   "cell_type": "code",
   "execution_count": 12,
   "id": "579430e7",
   "metadata": {},
   "outputs": [
    {
     "data": {
      "text/plain": [
       "array([0., 2., 1.])"
      ]
     },
     "execution_count": 12,
     "metadata": {},
     "output_type": "execute_result"
    }
   ],
   "source": [
    "health_selected['DIABETE4'] = health_selected['DIABETE4'].replace({2:0, 3:0, 4:1, 1:2})\n",
    "health_selected = health_selected[health_selected.DIABETE4 != 9] # Remove people who refused to answer\n",
    "health_selected = health_selected[health_selected.DIABETE4 != 7] # Remove people who are not sure\n",
    "health_selected.DIABETE4.unique()"
   ]
  },
  {
   "cell_type": "markdown",
   "id": "f7f27526",
   "metadata": {},
   "source": [
    "#### Question:  Adults who reported doing physical activity or exercise during the past 30 days other than their regular job <br>\n",
    "- 0: No exercise\n",
    "- 1: Has exercise"
   ]
  },
  {
   "cell_type": "code",
   "execution_count": 13,
   "id": "4592861e",
   "metadata": {},
   "outputs": [
    {
     "data": {
      "text/plain": [
       "array([0., 1.])"
      ]
     },
     "execution_count": 13,
     "metadata": {},
     "output_type": "execute_result"
    }
   ],
   "source": [
    "health_selected['_TOTINDA'] = health_selected['_TOTINDA'].replace({2:0})\n",
    "health_selected = health_selected[health_selected._TOTINDA != 9] # Remove people who refused to answer\n",
    "health_selected._TOTINDA.unique()"
   ]
  },
  {
   "cell_type": "markdown",
   "id": "ec6b60ba",
   "metadata": {},
   "source": [
    "#### Question:  Consume Fruit 1 or more times per day <br>\n",
    "- 0: Does not consume fruit daily\n",
    "- 1: Consume 1 fruit or more per day"
   ]
  },
  {
   "cell_type": "code",
   "execution_count": 14,
   "id": "af4aa128",
   "metadata": {},
   "outputs": [
    {
     "data": {
      "text/plain": [
       "array([1., 0.])"
      ]
     },
     "execution_count": 14,
     "metadata": {},
     "output_type": "execute_result"
    }
   ],
   "source": [
    "health_selected['_FRTLT1A'] = health_selected['_FRTLT1A'].replace({2:0})\n",
    "health_selected = health_selected[health_selected._FRTLT1A != 9] # Remove people who refused to answer\n",
    "health_selected._FRTLT1A.unique()"
   ]
  },
  {
   "cell_type": "markdown",
   "id": "24a79d95",
   "metadata": {},
   "source": [
    "#### Question:  Consume Vegetables 1 or more times per day <br>\n",
    "- 0: Does not consume vegetables daily\n",
    "- 1: Consume 1 vegetables or more per day"
   ]
  },
  {
   "cell_type": "code",
   "execution_count": 15,
   "id": "2abac3aa",
   "metadata": {},
   "outputs": [
    {
     "data": {
      "text/plain": [
       "array([1., 0.])"
      ]
     },
     "execution_count": 15,
     "metadata": {},
     "output_type": "execute_result"
    }
   ],
   "source": [
    "health_selected['_VEGLT1A'] = health_selected['_VEGLT1A'].replace({2:0})\n",
    "health_selected = health_selected[health_selected._VEGLT1A != 9] # Remove people who refused to answer\n",
    "health_selected._VEGLT1A.unique()"
   ]
  },
  {
   "cell_type": "markdown",
   "id": "0bf75975",
   "metadata": {},
   "source": [
    "#### Question:  Heavy drinkers (adult men having more than 14 drinks per week and adult women having more than 7 drinks per week) <br>\n",
    "- 0: Not heavy drinkers\n",
    "- 1: Heavy drinkers"
   ]
  },
  {
   "cell_type": "code",
   "execution_count": 16,
   "id": "0c52ca74",
   "metadata": {},
   "outputs": [
    {
     "data": {
      "text/plain": [
       "array([1., 0.])"
      ]
     },
     "execution_count": 16,
     "metadata": {},
     "output_type": "execute_result"
    }
   ],
   "source": [
    "health_selected['_RFDRHV7'] = health_selected['_RFDRHV7'].replace({2:0})\n",
    "health_selected = health_selected[health_selected._RFDRHV7 != 9] # Remove people who refused to answer\n",
    "health_selected._RFDRHV7.unique()"
   ]
  },
  {
   "cell_type": "markdown",
   "id": "a56b2e6d",
   "metadata": {},
   "source": [
    "#### Question:  Do you have any kind of health care coverage, including health insurance, prepaid plans such as HMOs, or government plans such as Medicare, or Indian Health Service?<br>\n",
    "- 0: No healthcare coverage\n",
    "- 1: Has healthcare coverage"
   ]
  },
  {
   "cell_type": "code",
   "execution_count": 17,
   "id": "c2bd1db3",
   "metadata": {},
   "outputs": [
    {
     "data": {
      "text/plain": [
       "array([1., 0.])"
      ]
     },
     "execution_count": 17,
     "metadata": {},
     "output_type": "execute_result"
    }
   ],
   "source": [
    "health_selected['HLTHPLN1'] = health_selected['HLTHPLN1'].replace({2:0})\n",
    "health_selected = health_selected[health_selected.HLTHPLN1 != 9] # Remove people who refused to answer\n",
    "health_selected = health_selected[health_selected.HLTHPLN1 != 7] # Remove people who do not know\n",
    "health_selected.HLTHPLN1.unique()"
   ]
  },
  {
   "cell_type": "markdown",
   "id": "08f00051",
   "metadata": {},
   "source": [
    "#### Question:  Was there a time in the past 12 months when you needed to see a doctor but could not because of cost?<br>\n",
    "- 0: Could not afford healthcare\n",
    "- 1: Could afford healthcare"
   ]
  },
  {
   "cell_type": "code",
   "execution_count": 18,
   "id": "8ebed67d",
   "metadata": {},
   "outputs": [
    {
     "data": {
      "text/plain": [
       "array([0., 1.])"
      ]
     },
     "execution_count": 18,
     "metadata": {},
     "output_type": "execute_result"
    }
   ],
   "source": [
    "health_selected['MEDCOST'] = health_selected['MEDCOST'].replace({2:0})\n",
    "health_selected = health_selected[health_selected.MEDCOST != 9] # Remove people who refused to answer\n",
    "health_selected = health_selected[health_selected.MEDCOST != 7] # Remove people who do not know\n",
    "health_selected.MEDCOST.unique()"
   ]
  },
  {
   "cell_type": "markdown",
   "id": "81831977",
   "metadata": {},
   "source": [
    "#### Question:  Would you say that in general your health is:<br>\n",
    "- 1: Excellent\n",
    "- 2: Very good\n",
    "- 3: Good\n",
    "- 4: Fair\n",
    "- 5: Poor"
   ]
  },
  {
   "cell_type": "code",
   "execution_count": 19,
   "id": "96696648",
   "metadata": {},
   "outputs": [
    {
     "data": {
      "text/plain": [
       "array([3., 4., 2., 1., 5.])"
      ]
     },
     "execution_count": 19,
     "metadata": {},
     "output_type": "execute_result"
    }
   ],
   "source": [
    "health_selected = health_selected[health_selected.GENHLTH != 9] # Remove people who refused to answer\n",
    "health_selected = health_selected[health_selected.GENHLTH != 7] # Remove people who do not know\n",
    "health_selected.GENHLTH.unique()"
   ]
  },
  {
   "cell_type": "markdown",
   "id": "76055497",
   "metadata": {},
   "source": [
    "#### Question:  Now thinking about your mental health, which includes stress, depression, and problems with emotions, for how many days during the past 30 days was your mental health not good?<br>\n",
    "- answer is number of days"
   ]
  },
  {
   "cell_type": "code",
   "execution_count": 18,
   "id": "43ad44a0",
   "metadata": {},
   "outputs": [
    {
     "data": {
      "text/plain": [
       "array([ 0., 30.,  4.,  1.,  2., 15.,  5.,  7., 10.,  3., 25.,  6., 21.,\n",
       "       20.,  8., 14., 17., 28., 12., 16., 27., 22., 29., 23., 26., 24.,\n",
       "       13.,  9., 18., 11., 19.])"
      ]
     },
     "execution_count": 18,
     "metadata": {},
     "output_type": "execute_result"
    }
   ],
   "source": [
    "health_selected['MENTHLTH'] = health_selected['MENTHLTH'].replace({88:0}) # change none to 0\n",
    "health_selected = health_selected[health_selected.MENTHLTH != 99] # Remove people who refused to answer\n",
    "health_selected = health_selected[health_selected.MENTHLTH != 77] # Remove people who do not know\n",
    "health_selected.MENTHLTH.unique()"
   ]
  },
  {
   "cell_type": "markdown",
   "id": "ad386794",
   "metadata": {},
   "source": [
    "#### Question:  Now thinking about your physical health, which includes physical illness and injury, for how many days during the past 30 days was your physical health not good?<br>\n",
    "- answer is in number of days\n"
   ]
  },
  {
   "cell_type": "code",
   "execution_count": 21,
   "id": "adc02761",
   "metadata": {},
   "outputs": [
    {
     "data": {
      "text/plain": [
       "array([15., 10.,  0., 30., 20.,  2.,  1.,  7., 14.,  3.,  5., 25.,  4.,\n",
       "        6., 28., 21., 17.,  8., 16., 27., 12., 23., 18., 13., 29., 19.,\n",
       "        9., 24., 26., 11., 22.])"
      ]
     },
     "execution_count": 21,
     "metadata": {},
     "output_type": "execute_result"
    }
   ],
   "source": [
    "health_selected['PHYSHLTH'] = health_selected['PHYSHLTH'].replace({88:0}) # Change none to 0\n",
    "health_selected = health_selected[health_selected.PHYSHLTH != 99] # Remove people who refused to answer\n",
    "health_selected = health_selected[health_selected.PHYSHLTH != 77] # Remove people who do not know\n",
    "health_selected.PHYSHLTH.unique()"
   ]
  },
  {
   "cell_type": "markdown",
   "id": "bba9f456",
   "metadata": {},
   "source": [
    "#### Question:  Do you have serious difficulty walking or climbing stairs?<br>\n",
    "- 0: Has walking difficulties\n",
    "- 1: Do not have walking difficulties"
   ]
  },
  {
   "cell_type": "code",
   "execution_count": 22,
   "id": "bddda1c8",
   "metadata": {},
   "outputs": [
    {
     "data": {
      "text/plain": [
       "array([1., 0.])"
      ]
     },
     "execution_count": 22,
     "metadata": {},
     "output_type": "execute_result"
    }
   ],
   "source": [
    "health_selected['DIFFWALK'] = health_selected['DIFFWALK'].replace({2:0})\n",
    "health_selected = health_selected[health_selected.DIFFWALK != 9] # Remove people who refused to answer\n",
    "health_selected = health_selected[health_selected.DIFFWALK != 7] # Remove people who do not know\n",
    "health_selected.DIFFWALK.unique()"
   ]
  },
  {
   "cell_type": "markdown",
   "id": "8bb425df",
   "metadata": {},
   "source": [
    "#### Question:  Sex of Respondent<br>\n",
    "- 0: Female\n",
    "- 1: Male"
   ]
  },
  {
   "cell_type": "code",
   "execution_count": 23,
   "id": "ee036630",
   "metadata": {},
   "outputs": [
    {
     "data": {
      "text/plain": [
       "array([1., 0.])"
      ]
     },
     "execution_count": 23,
     "metadata": {},
     "output_type": "execute_result"
    }
   ],
   "source": [
    "health_selected['SEXVAR'] = health_selected['SEXVAR'].replace({2:0})\n",
    "health_selected.DIFFWALK.unique()"
   ]
  },
  {
   "cell_type": "markdown",
   "id": "09784b1d",
   "metadata": {},
   "source": [
    "#### Question:  Fourteen-level age category<br>\n",
    "- 1: Age 18 to 24\n",
    "- 2: Age 25 to 29\n",
    "- 3: Age 30 to 34\n",
    "- 4: Age 35 to 39\n",
    "- 5: Age 40 to 44\n",
    "- 6: Age 45 to 49\n",
    "- 7: Age 50 to 54\n",
    "- 8: Age 55 to 59\n",
    "- 9: Age 60 to 64\n",
    "- 10: Age 65 to 69\n",
    "- 11: Age 70 to 74\n",
    "- 12: Age 75 to 79\n",
    "- 13: Age 80 or higher\n",
    "- 14: Don't know/Refused/Missing (removed)"
   ]
  },
  {
   "cell_type": "code",
   "execution_count": 19,
   "id": "0c3bce71",
   "metadata": {},
   "outputs": [
    {
     "data": {
      "text/plain": [
       "array([13., 11., 10.,  8., 12.,  7.,  9.,  6.,  5.,  4.,  1.,  3.,  2.])"
      ]
     },
     "execution_count": 19,
     "metadata": {},
     "output_type": "execute_result"
    }
   ],
   "source": [
    "health_selected = health_selected[health_selected._AGEG5YR != 14] # Remove missing values\n",
    "health_selected._AGEG5YR.unique()"
   ]
  },
  {
   "cell_type": "markdown",
   "id": "a5c43120",
   "metadata": {},
   "source": [
    "#### Question:  What is the highest grade or year of school you completed?<br>\n",
    "- 1: Never attended school or only kindergarten\t\n",
    "- 2: Grades 1 through 8 (Elementary)\t\n",
    "- 3: Grades 9 through 11 (Some high school)\n",
    "- 4: Grade 12 or GED (High school graduate)\n",
    "- 5: College 1 year to 3 years (Some college or technical school)\n",
    "- 6: College 4 years or more (College graduate)\n",
    "\n",
    "- 9: Refused (removed)"
   ]
  },
  {
   "cell_type": "code",
   "execution_count": 20,
   "id": "1f1af41b",
   "metadata": {},
   "outputs": [
    {
     "data": {
      "text/plain": [
       "array([3., 5., 6., 2., 4., 1.])"
      ]
     },
     "execution_count": 20,
     "metadata": {},
     "output_type": "execute_result"
    }
   ],
   "source": [
    "health_selected = health_selected[health_selected.EDUCA != 9] # Remove people who refused to answer\n",
    "health_selected.EDUCA.unique()"
   ]
  },
  {
   "cell_type": "markdown",
   "id": "8205d368",
   "metadata": {},
   "source": [
    "#### Question:  Is your annual household income from all sources (in USD):  (If respondent refuses at any income level, code ´Refused.´)<br>\n",
    "- 1: Less than 10,000\n",
    "- 2: Less than 15,000 (10,000 to less than 15,000)\t\n",
    "- 3: Less than 20,000 (15,000 to less than 20,000)\n",
    "- 4: Less than 25,000 (20,000 to less than 25,000)\n",
    "- 5: Less than 35,000 (25,000 to less than 35,000)\n",
    "- 6: Less than 50,000 (35,000 to less than 50,000)\n",
    "- 7: Less than 75,000 (50,000 to less than 75,000)\n",
    "- 8: 75,000 or more\n",
    "- 77: Don’t know/Not sure (Removed)\n",
    "- 99: Refused (Removed)\n"
   ]
  },
  {
   "cell_type": "code",
   "execution_count": 21,
   "id": "fcac3bd9",
   "metadata": {},
   "outputs": [
    {
     "data": {
      "text/plain": [
       "array([3., 5., 7., 8., 6., 4., 2., 1.])"
      ]
     },
     "execution_count": 21,
     "metadata": {},
     "output_type": "execute_result"
    }
   ],
   "source": [
    "health_selected = health_selected[health_selected.INCOME2 != 99] # Remove people who do not know\n",
    "health_selected = health_selected[health_selected.INCOME2 != 77] # Remove people who refused to answer\n",
    "health_selected.INCOME2.unique()"
   ]
  },
  {
   "cell_type": "code",
   "execution_count": 27,
   "id": "3de8cbb4",
   "metadata": {},
   "outputs": [
    {
     "data": {
      "text/plain": [
       "(254972, 21)"
      ]
     },
     "execution_count": 27,
     "metadata": {},
     "output_type": "execute_result"
    }
   ],
   "source": [
    "health_selected.shape"
   ]
  },
  {
   "cell_type": "code",
   "execution_count": 28,
   "id": "e1c03b0f",
   "metadata": {},
   "outputs": [
    {
     "data": {
      "text/html": [
       "<div>\n",
       "<style scoped>\n",
       "    .dataframe tbody tr th:only-of-type {\n",
       "        vertical-align: middle;\n",
       "    }\n",
       "\n",
       "    .dataframe tbody tr th {\n",
       "        vertical-align: top;\n",
       "    }\n",
       "\n",
       "    .dataframe thead th {\n",
       "        text-align: right;\n",
       "    }\n",
       "</style>\n",
       "<table border=\"1\" class=\"dataframe\">\n",
       "  <thead>\n",
       "    <tr style=\"text-align: right;\">\n",
       "      <th></th>\n",
       "      <th>_MICHD</th>\n",
       "      <th>_RFHYPE5</th>\n",
       "      <th>TOLDHI2</th>\n",
       "      <th>SMOKE100</th>\n",
       "      <th>_BMI5</th>\n",
       "      <th>CVDSTRK3</th>\n",
       "      <th>DIABETE4</th>\n",
       "      <th>_TOTINDA</th>\n",
       "      <th>_FRTLT1A</th>\n",
       "      <th>_VEGLT1A</th>\n",
       "      <th>...</th>\n",
       "      <th>HLTHPLN1</th>\n",
       "      <th>MEDCOST</th>\n",
       "      <th>GENHLTH</th>\n",
       "      <th>MENTHLTH</th>\n",
       "      <th>PHYSHLTH</th>\n",
       "      <th>DIFFWALK</th>\n",
       "      <th>SEXVAR</th>\n",
       "      <th>_AGEG5YR</th>\n",
       "      <th>EDUCA</th>\n",
       "      <th>INCOME2</th>\n",
       "    </tr>\n",
       "  </thead>\n",
       "  <tbody>\n",
       "    <tr>\n",
       "      <th>0</th>\n",
       "      <td>0.0</td>\n",
       "      <td>1.0</td>\n",
       "      <td>1.0</td>\n",
       "      <td>1.0</td>\n",
       "      <td>28.0</td>\n",
       "      <td>0.0</td>\n",
       "      <td>0.0</td>\n",
       "      <td>0.0</td>\n",
       "      <td>1.0</td>\n",
       "      <td>1.0</td>\n",
       "      <td>...</td>\n",
       "      <td>1.0</td>\n",
       "      <td>0.0</td>\n",
       "      <td>3.0</td>\n",
       "      <td>0.0</td>\n",
       "      <td>15.0</td>\n",
       "      <td>1.0</td>\n",
       "      <td>0.0</td>\n",
       "      <td>13.0</td>\n",
       "      <td>3.0</td>\n",
       "      <td>3.0</td>\n",
       "    </tr>\n",
       "    <tr>\n",
       "      <th>1</th>\n",
       "      <td>0.0</td>\n",
       "      <td>0.0</td>\n",
       "      <td>0.0</td>\n",
       "      <td>0.0</td>\n",
       "      <td>19.0</td>\n",
       "      <td>0.0</td>\n",
       "      <td>0.0</td>\n",
       "      <td>1.0</td>\n",
       "      <td>1.0</td>\n",
       "      <td>1.0</td>\n",
       "      <td>...</td>\n",
       "      <td>1.0</td>\n",
       "      <td>0.0</td>\n",
       "      <td>4.0</td>\n",
       "      <td>0.0</td>\n",
       "      <td>10.0</td>\n",
       "      <td>0.0</td>\n",
       "      <td>0.0</td>\n",
       "      <td>11.0</td>\n",
       "      <td>5.0</td>\n",
       "      <td>5.0</td>\n",
       "    </tr>\n",
       "    <tr>\n",
       "      <th>2</th>\n",
       "      <td>0.0</td>\n",
       "      <td>1.0</td>\n",
       "      <td>0.0</td>\n",
       "      <td>0.0</td>\n",
       "      <td>32.0</td>\n",
       "      <td>0.0</td>\n",
       "      <td>2.0</td>\n",
       "      <td>1.0</td>\n",
       "      <td>1.0</td>\n",
       "      <td>1.0</td>\n",
       "      <td>...</td>\n",
       "      <td>1.0</td>\n",
       "      <td>0.0</td>\n",
       "      <td>3.0</td>\n",
       "      <td>30.0</td>\n",
       "      <td>0.0</td>\n",
       "      <td>1.0</td>\n",
       "      <td>0.0</td>\n",
       "      <td>10.0</td>\n",
       "      <td>6.0</td>\n",
       "      <td>7.0</td>\n",
       "    </tr>\n",
       "    <tr>\n",
       "      <th>6</th>\n",
       "      <td>0.0</td>\n",
       "      <td>0.0</td>\n",
       "      <td>0.0</td>\n",
       "      <td>1.0</td>\n",
       "      <td>33.0</td>\n",
       "      <td>0.0</td>\n",
       "      <td>2.0</td>\n",
       "      <td>1.0</td>\n",
       "      <td>1.0</td>\n",
       "      <td>1.0</td>\n",
       "      <td>...</td>\n",
       "      <td>1.0</td>\n",
       "      <td>0.0</td>\n",
       "      <td>2.0</td>\n",
       "      <td>0.0</td>\n",
       "      <td>30.0</td>\n",
       "      <td>1.0</td>\n",
       "      <td>1.0</td>\n",
       "      <td>11.0</td>\n",
       "      <td>6.0</td>\n",
       "      <td>7.0</td>\n",
       "    </tr>\n",
       "    <tr>\n",
       "      <th>9</th>\n",
       "      <td>0.0</td>\n",
       "      <td>0.0</td>\n",
       "      <td>1.0</td>\n",
       "      <td>1.0</td>\n",
       "      <td>17.0</td>\n",
       "      <td>0.0</td>\n",
       "      <td>2.0</td>\n",
       "      <td>0.0</td>\n",
       "      <td>0.0</td>\n",
       "      <td>0.0</td>\n",
       "      <td>...</td>\n",
       "      <td>1.0</td>\n",
       "      <td>0.0</td>\n",
       "      <td>5.0</td>\n",
       "      <td>0.0</td>\n",
       "      <td>20.0</td>\n",
       "      <td>1.0</td>\n",
       "      <td>0.0</td>\n",
       "      <td>11.0</td>\n",
       "      <td>2.0</td>\n",
       "      <td>3.0</td>\n",
       "    </tr>\n",
       "  </tbody>\n",
       "</table>\n",
       "<p>5 rows × 21 columns</p>\n",
       "</div>"
      ],
      "text/plain": [
       "   _MICHD  _RFHYPE5  TOLDHI2  SMOKE100  _BMI5  CVDSTRK3  DIABETE4  _TOTINDA  \\\n",
       "0     0.0       1.0      1.0       1.0   28.0       0.0       0.0       0.0   \n",
       "1     0.0       0.0      0.0       0.0   19.0       0.0       0.0       1.0   \n",
       "2     0.0       1.0      0.0       0.0   32.0       0.0       2.0       1.0   \n",
       "6     0.0       0.0      0.0       1.0   33.0       0.0       2.0       1.0   \n",
       "9     0.0       0.0      1.0       1.0   17.0       0.0       2.0       0.0   \n",
       "\n",
       "   _FRTLT1A  _VEGLT1A  ...  HLTHPLN1  MEDCOST  GENHLTH  MENTHLTH  PHYSHLTH  \\\n",
       "0       1.0       1.0  ...       1.0      0.0      3.0       0.0      15.0   \n",
       "1       1.0       1.0  ...       1.0      0.0      4.0       0.0      10.0   \n",
       "2       1.0       1.0  ...       1.0      0.0      3.0      30.0       0.0   \n",
       "6       1.0       1.0  ...       1.0      0.0      2.0       0.0      30.0   \n",
       "9       0.0       0.0  ...       1.0      0.0      5.0       0.0      20.0   \n",
       "\n",
       "   DIFFWALK  SEXVAR  _AGEG5YR  EDUCA  INCOME2  \n",
       "0       1.0     0.0      13.0    3.0      3.0  \n",
       "1       0.0     0.0      11.0    5.0      5.0  \n",
       "2       1.0     0.0      10.0    6.0      7.0  \n",
       "6       1.0     1.0      11.0    6.0      7.0  \n",
       "9       1.0     0.0      11.0    2.0      3.0  \n",
       "\n",
       "[5 rows x 21 columns]"
      ]
     },
     "execution_count": 28,
     "metadata": {},
     "output_type": "execute_result"
    }
   ],
   "source": [
    "health_selected.head()"
   ]
  },
  {
   "cell_type": "code",
   "execution_count": 29,
   "id": "13a7ac60",
   "metadata": {},
   "outputs": [],
   "source": [
    "data = health_selected.rename(columns = {'_MICHD':'HeartDiseaseorAttack', \n",
    "                                         '_RFHYPE5':'HighBP',  \n",
    "                                         'TOLDHI2':'HighChol',\n",
    "                                         '_BMI5':'BMI', \n",
    "                                         'SMOKE100':'Smoker', \n",
    "                                         'CVDSTRK3':'Stroke', 'DIABETE4':'Diabetes', \n",
    "                                         '_TOTINDA':'Exercise', \n",
    "                                         '_FRTLT1':'Fruits', '_VEGLT1':\"Veggies\", \n",
    "                                         '_RFDRHV5':'HvyAlcohol', \n",
    "                                         'HLTHPLN1':'AnyHealthcare', 'MEDCOST':'AffordHealthcare', \n",
    "                                         'GENHLTH':'GenHealth', 'MENTHLTH':'MentHealth', 'PHYSHLTH':'PhysHealth', 'DIFFWALK':'DiffWalk', \n",
    "                                         'SEXVAR':'Sex', '_AGEG5YR':'Age', 'EDUCA':'Education', 'INCOME2':'Income' })"
   ]
  },
  {
   "cell_type": "code",
   "execution_count": 30,
   "id": "32a706de",
   "metadata": {},
   "outputs": [
    {
     "data": {
      "text/plain": [
       "(254972, 21)"
      ]
     },
     "execution_count": 30,
     "metadata": {},
     "output_type": "execute_result"
    }
   ],
   "source": [
    "data.shape"
   ]
  },
  {
   "cell_type": "code",
   "execution_count": 31,
   "id": "138edc73",
   "metadata": {},
   "outputs": [
    {
     "data": {
      "text/plain": [
       "HeartDiseaseorAttack\n",
       "0.0    232037\n",
       "1.0     22935\n",
       "dtype: int64"
      ]
     },
     "execution_count": 31,
     "metadata": {},
     "output_type": "execute_result"
    }
   ],
   "source": [
    "data.groupby(['HeartDiseaseorAttack']).size()"
   ]
  },
  {
   "cell_type": "code",
   "execution_count": 32,
   "id": "f3861892",
   "metadata": {},
   "outputs": [],
   "source": [
    "data.to_csv('Clean2019Data.csv', sep=\",\", index=False)"
   ]
  },
  {
   "cell_type": "code",
   "execution_count": null,
   "id": "447bd286",
   "metadata": {},
   "outputs": [],
   "source": []
  }
 ],
 "metadata": {
  "kernelspec": {
   "display_name": "Python 3",
   "language": "python",
   "name": "python3"
  },
  "language_info": {
   "codemirror_mode": {
    "name": "ipython",
    "version": 3
   },
   "file_extension": ".py",
   "mimetype": "text/x-python",
   "name": "python",
   "nbconvert_exporter": "python",
   "pygments_lexer": "ipython3",
   "version": "3.8.8"
  }
 },
 "nbformat": 4,
 "nbformat_minor": 5
}
