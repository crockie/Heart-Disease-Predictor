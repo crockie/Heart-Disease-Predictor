{
 "cells": [
  {
   "cell_type": "code",
   "execution_count": 1,
   "id": "feae4e1c-97b3-4cc4-abeb-b3b14ba065de",
   "metadata": {},
   "outputs": [],
   "source": [
    "import pandas as pd\n",
    "import matplotlib.pyplot as plt\n",
    "import numpy as np\n",
    "import seaborn as sb\n",
    "\n",
    "from sklearn.model_selection import train_test_split\n",
    "from sklearn.linear_model import LogisticRegression\n",
    "from sklearn.ensemble import RandomForestClassifier\n",
    "from sklearn.neighbors import KNeighborsRegressor\n",
    "from sklearn.svm import LinearSVC\n",
    "from sklearn.metrics import confusion_matrix\n"
   ]
  },
  {
   "cell_type": "code",
   "execution_count": 2,
   "id": "f538f25f-6ed0-4ee7-a2ac-f871886d2f7a",
   "metadata": {},
   "outputs": [
    {
     "data": {
      "text/plain": [
       "(254972, 21)"
      ]
     },
     "execution_count": 2,
     "metadata": {},
     "output_type": "execute_result"
    }
   ],
   "source": [
    "dataset = pd.read_csv(\"Clean2019Data.csv\")\n",
    "dataset.shape"
   ]
  },
  {
   "cell_type": "code",
   "execution_count": 3,
   "id": "555fa121-9df9-4609-bf9e-d3323e660b72",
   "metadata": {},
   "outputs": [
    {
     "data": {
      "text/plain": [
       "(203977, 1)"
      ]
     },
     "execution_count": 3,
     "metadata": {},
     "output_type": "execute_result"
    }
   ],
   "source": [
    "HighBP = pd.DataFrame(dataset['HighBP'])\n",
    "HD = pd.DataFrame(dataset['HeartDiseaseorAttack'])\n",
    "HighBP_train, HighBP_test, HD_train, HD_test = train_test_split(HighBP, HD, test_size = 0.2)\n",
    "HighBP_train.shape"
   ]
  },
  {
   "cell_type": "code",
   "execution_count": 4,
   "id": "ce6df64e-788f-4794-918c-350df64201c3",
   "metadata": {},
   "outputs": [
    {
     "data": {
      "text/plain": [
       "pandas.core.frame.DataFrame"
      ]
     },
     "execution_count": 4,
     "metadata": {},
     "output_type": "execute_result"
    }
   ],
   "source": [
    "type(HighBP_train)"
   ]
  },
  {
   "cell_type": "markdown",
   "id": "eccbb664-c1b8-444b-aa01-b404438007fb",
   "metadata": {},
   "source": [
    "## Using 1 Predictor (Logistic Regression)\n"
   ]
  },
  {
   "cell_type": "code",
   "execution_count": 5,
   "id": "6eb4e597-9e67-4941-b5b3-432297373005",
   "metadata": {},
   "outputs": [
    {
     "data": {
      "text/plain": [
       "LogisticRegression()"
      ]
     },
     "execution_count": 5,
     "metadata": {},
     "output_type": "execute_result"
    }
   ],
   "source": [
    "lr = LogisticRegression()\n",
    "lr.fit(HighBP_train, HD_train.values.ravel())\n"
   ]
  },
  {
   "cell_type": "code",
   "execution_count": 6,
   "id": "69cf57bf-d7e0-4134-aff7-84b267c3904a",
   "metadata": {},
   "outputs": [
    {
     "data": {
      "text/plain": [
       "0.9099359241483108"
      ]
     },
     "execution_count": 6,
     "metadata": {},
     "output_type": "execute_result"
    }
   ],
   "source": [
    "lr.score(HighBP_train, HD_train)"
   ]
  },
  {
   "cell_type": "code",
   "execution_count": 7,
   "id": "8b557c0e-2b90-49fc-a71b-7cdfb1ead82c",
   "metadata": {},
   "outputs": [
    {
     "data": {
      "text/plain": [
       "<AxesSubplot:>"
      ]
     },
     "execution_count": 7,
     "metadata": {},
     "output_type": "execute_result"
    },
    {
     "data": {
      "image/png": "[encoded data removed]",
      "text/plain": [
       "<Figure size 432x288 with 2 Axes>"
      ]
     },
     "metadata": {
      "needs_background": "light"
     },
     "output_type": "display_data"
    }
   ],
   "source": [
    "HD_predict = lr.predict(HighBP_train)\n",
    "cm = confusion_matrix(HD_train, HD_predict)\n",
    "sb.heatmap(cm, annot = True, fmt=\".0f\", annot_kws={\"size\": 18})"
   ]
  },
  {
   "cell_type": "markdown",
   "id": "bc0f5adb-3b8c-4eb2-9fa8-540745eb8c92",
   "metadata": {},
   "source": [
    "## Using 10 Predictors (Logistic Regression)\n"
   ]
  },
  {
   "cell_type": "code",
   "execution_count": 8,
   "id": "68cc5afb-9380-42c8-90e6-e0765b248c80",
   "metadata": {},
   "outputs": [
    {
     "data": {
      "text/html": [
       "<div>\n",
       "<style scoped>\n",
       "    .dataframe tbody tr th:only-of-type {\n",
       "        vertical-align: middle;\n",
       "    }\n",
       "\n",
       "    .dataframe tbody tr th {\n",
       "        vertical-align: top;\n",
       "    }\n",
       "\n",
       "    .dataframe thead th {\n",
       "        text-align: right;\n",
       "    }\n",
       "</style>\n",
       "<table border=\"1\" class=\"dataframe\">\n",
       "  <thead>\n",
       "    <tr style=\"text-align: right;\">\n",
       "      <th></th>\n",
       "      <th>HighBP</th>\n",
       "      <th>HighChol</th>\n",
       "      <th>Smoker</th>\n",
       "      <th>BMI</th>\n",
       "      <th>Stroke</th>\n",
       "      <th>Diabetes</th>\n",
       "      <th>Exercise</th>\n",
       "      <th>_FRTLT1A</th>\n",
       "      <th>_VEGLT1A</th>\n",
       "      <th>_RFDRHV7</th>\n",
       "    </tr>\n",
       "  </thead>\n",
       "  <tbody>\n",
       "    <tr>\n",
       "      <th>5342</th>\n",
       "      <td>0.0</td>\n",
       "      <td>0.0</td>\n",
       "      <td>0.0</td>\n",
       "      <td>25.0</td>\n",
       "      <td>0.0</td>\n",
       "      <td>0.0</td>\n",
       "      <td>1.0</td>\n",
       "      <td>1.0</td>\n",
       "      <td>1.0</td>\n",
       "      <td>1.0</td>\n",
       "    </tr>\n",
       "    <tr>\n",
       "      <th>101280</th>\n",
       "      <td>1.0</td>\n",
       "      <td>1.0</td>\n",
       "      <td>1.0</td>\n",
       "      <td>27.0</td>\n",
       "      <td>1.0</td>\n",
       "      <td>0.0</td>\n",
       "      <td>0.0</td>\n",
       "      <td>1.0</td>\n",
       "      <td>0.0</td>\n",
       "      <td>1.0</td>\n",
       "    </tr>\n",
       "    <tr>\n",
       "      <th>108774</th>\n",
       "      <td>0.0</td>\n",
       "      <td>0.0</td>\n",
       "      <td>0.0</td>\n",
       "      <td>25.0</td>\n",
       "      <td>0.0</td>\n",
       "      <td>0.0</td>\n",
       "      <td>0.0</td>\n",
       "      <td>1.0</td>\n",
       "      <td>1.0</td>\n",
       "      <td>1.0</td>\n",
       "    </tr>\n",
       "    <tr>\n",
       "      <th>207756</th>\n",
       "      <td>0.0</td>\n",
       "      <td>0.0</td>\n",
       "      <td>0.0</td>\n",
       "      <td>31.0</td>\n",
       "      <td>0.0</td>\n",
       "      <td>0.0</td>\n",
       "      <td>1.0</td>\n",
       "      <td>0.0</td>\n",
       "      <td>1.0</td>\n",
       "      <td>1.0</td>\n",
       "    </tr>\n",
       "    <tr>\n",
       "      <th>131035</th>\n",
       "      <td>0.0</td>\n",
       "      <td>0.0</td>\n",
       "      <td>0.0</td>\n",
       "      <td>30.0</td>\n",
       "      <td>0.0</td>\n",
       "      <td>0.0</td>\n",
       "      <td>1.0</td>\n",
       "      <td>0.0</td>\n",
       "      <td>1.0</td>\n",
       "      <td>1.0</td>\n",
       "    </tr>\n",
       "  </tbody>\n",
       "</table>\n",
       "</div>"
      ],
      "text/plain": [
       "        HighBP  HighChol  Smoker   BMI  Stroke  Diabetes  Exercise  _FRTLT1A  \\\n",
       "5342       0.0       0.0     0.0  25.0     0.0       0.0       1.0       1.0   \n",
       "101280     1.0       1.0     1.0  27.0     1.0       0.0       0.0       1.0   \n",
       "108774     0.0       0.0     0.0  25.0     0.0       0.0       0.0       1.0   \n",
       "207756     0.0       0.0     0.0  31.0     0.0       0.0       1.0       0.0   \n",
       "131035     0.0       0.0     0.0  30.0     0.0       0.0       1.0       0.0   \n",
       "\n",
       "        _VEGLT1A  _RFDRHV7  \n",
       "5342         1.0       1.0  \n",
       "101280       0.0       1.0  \n",
       "108774       1.0       1.0  \n",
       "207756       1.0       1.0  \n",
       "131035       1.0       1.0  "
      ]
     },
     "execution_count": 8,
     "metadata": {},
     "output_type": "execute_result"
    }
   ],
   "source": [
    "lr = LogisticRegression(solver = 'lbfgs', max_iter= 254972)\n",
    "train, test = train_test_split(dataset, test_size = 0.2)\n",
    "train.iloc[:,1:11].head()\n"
   ]
  },
  {
   "cell_type": "code",
   "execution_count": 9,
   "id": "1b6427f4-fac5-45ed-aa36-f35c07ee22a6",
   "metadata": {},
   "outputs": [
    {
     "data": {
      "text/plain": [
       "(203977, 10)"
      ]
     },
     "execution_count": 9,
     "metadata": {},
     "output_type": "execute_result"
    }
   ],
   "source": [
    "train.iloc[:,1:11].shape"
   ]
  },
  {
   "cell_type": "code",
   "execution_count": 10,
   "id": "cda54e21-ea42-4ffc-9af7-f6eaf00a5086",
   "metadata": {},
   "outputs": [],
   "source": [
    "train_predictors = train.iloc[:,1:11]\n",
    "train_response = train[['HeartDiseaseorAttack']]"
   ]
  },
  {
   "cell_type": "code",
   "execution_count": 11,
   "id": "1fb11d59-35bb-4a89-9cc8-8dfa4dee92ce",
   "metadata": {},
   "outputs": [
    {
     "data": {
      "text/plain": [
       "(203977, 1)"
      ]
     },
     "execution_count": 11,
     "metadata": {},
     "output_type": "execute_result"
    }
   ],
   "source": [
    "train_response.shape"
   ]
  },
  {
   "cell_type": "code",
   "execution_count": 12,
   "id": "e9fd1e61-9854-4c5a-8a93-2842aaa83968",
   "metadata": {},
   "outputs": [
    {
     "name": "stdout",
     "output_type": "stream",
     "text": [
      "Logistic Regression with 1 Predictor gives a score of 0.9100682920133152 for the train set.\n"
     ]
    }
   ],
   "source": [
    "lr.fit(train_predictors, train_response.values.ravel())\n",
    "print(f\"Logistic Regression with 1 Predictor gives a score of {lr.score(train_predictors, train_response)} for the train set.\")"
   ]
  },
  {
   "cell_type": "code",
   "execution_count": 13,
   "id": "591f7c5b-5ae6-418a-977f-59af96dad1d4",
   "metadata": {},
   "outputs": [
    {
     "data": {
      "text/plain": [
       "(50995, 1)"
      ]
     },
     "execution_count": 13,
     "metadata": {},
     "output_type": "execute_result"
    }
   ],
   "source": [
    "test_predictors = test.iloc[:,1:11]\n",
    "test_response = test[['HeartDiseaseorAttack']]\n",
    "test_response.shape"
   ]
  },
  {
   "cell_type": "code",
   "execution_count": 14,
   "id": "e40eb072-f49c-4ed9-9525-844adcb45cb4",
   "metadata": {},
   "outputs": [
    {
     "name": "stdout",
     "output_type": "stream",
     "text": [
      "Logistic Regression with 1 Predictor gives a score of 0.9099715658397882 for the test set.\n"
     ]
    }
   ],
   "source": [
    "lr.fit(test_predictors, test_response.values.ravel())\n",
    "print(f\"Logistic Regression with 1 Predictor gives a score of {lr.score(test_predictors, test_response)} for the test set.\")"
   ]
  },
  {
   "cell_type": "code",
   "execution_count": 15,
   "id": "d097eeab-b633-433f-922b-14cc790921ec",
   "metadata": {},
   "outputs": [
    {
     "data": {
      "text/plain": [
       "<AxesSubplot:>"
      ]
     },
     "execution_count": 15,
     "metadata": {},
     "output_type": "execute_result"
    },
    {
     "data": {
      "image/png": "[encoded data removed]",
      "text/plain": [
       "<Figure size 432x288 with 2 Axes>"
      ]
     },
     "metadata": {
      "needs_background": "light"
     },
     "output_type": "display_data"
    }
   ],
   "source": [
    "HD_predict = lr.predict(train_predictors)\n",
    "cm = confusion_matrix(HD_train, HD_predict)\n",
    "sb.heatmap(cm, annot = True, fmt=\".0f\", annot_kws={\"size\": 18})"
   ]
  },
  {
   "cell_type": "markdown",
   "id": "811feaea-687d-42a7-a8b4-cc377bde0c31",
   "metadata": {},
   "source": [
    "# Using 10 Predictors (Random Forest Regression)"
   ]
  },
  {
   "cell_type": "code",
   "execution_count": 16,
   "id": "bbe3549d-96a4-4ea7-b56e-de622e248559",
   "metadata": {},
   "outputs": [
    {
     "data": {
      "text/plain": [
       "0.9167847355339083"
      ]
     },
     "execution_count": 16,
     "metadata": {},
     "output_type": "execute_result"
    }
   ],
   "source": [
    "rfc = RandomForestClassifier(n_estimators = 100)\n",
    "rfc.fit(train_predictors, train_response.values.ravel())\n",
    "rfc.score(train_predictors, train_response)"
   ]
  },
  {
   "cell_type": "code",
   "execution_count": 17,
   "id": "86441d95-17bb-4bf5-a3d5-6c173473e853",
   "metadata": {},
   "outputs": [
    {
     "data": {
      "text/plain": [
       "0.9249338170408864"
      ]
     },
     "execution_count": 17,
     "metadata": {},
     "output_type": "execute_result"
    }
   ],
   "source": [
    "rfc.fit(test_predictors, test_response.values.ravel())\n",
    "rfc.score(test_predictors, test_response)"
   ]
  },
  {
   "cell_type": "code",
   "execution_count": 18,
   "id": "1230fa34-c983-4743-85a7-d9d22e057d14",
   "metadata": {},
   "outputs": [
    {
     "data": {
      "text/plain": [
       "<AxesSubplot:>"
      ]
     },
     "execution_count": 18,
     "metadata": {},
     "output_type": "execute_result"
    },
    {
     "data": {
      "image/png": "[encoded data removed]",
      "text/plain": [
       "<Figure size 432x288 with 2 Axes>"
      ]
     },
     "metadata": {
      "needs_background": "light"
     },
     "output_type": "display_data"
    }
   ],
   "source": [
    "HD_predict = rfc.predict(train_predictors)\n",
    "cm = confusion_matrix(HD_train, HD_predict)\n",
    "sb.heatmap(cm, annot = True, fmt=\".0f\", annot_kws={\"size\": 18})"
   ]
  },
  {
   "cell_type": "markdown",
   "id": "10185cda-c4cf-44aa-8ba6-9ad3412e58ed",
   "metadata": {},
   "source": [
    "# Using 10 Predictors (Support Vector Classification with C=1.0)"
   ]
  },
  {
   "cell_type": "code",
   "execution_count": 19,
   "id": "3130b536-cdca-4a9a-8391-f5f6762199bd",
   "metadata": {},
   "outputs": [
    {
     "data": {
      "text/plain": [
       "(203977, 10)"
      ]
     },
     "execution_count": 19,
     "metadata": {},
     "output_type": "execute_result"
    }
   ],
   "source": [
    "from sklearn import preprocessing\n",
    "train_predictors = preprocessing.scale(train_predictors)\n",
    "train_predictors.shape"
   ]
  },
  {
   "cell_type": "code",
   "execution_count": 20,
   "id": "bf4fc211-7b5a-446c-8af6-9df0b201f0c4",
   "metadata": {},
   "outputs": [
    {
     "data": {
      "text/plain": [
       "0.9099457291753482"
      ]
     },
     "execution_count": 20,
     "metadata": {},
     "output_type": "execute_result"
    }
   ],
   "source": [
    "svc = LinearSVC(C=1.0, max_iter=203977)\n",
    "svc.fit(train_predictors, train_response.values.ravel())\n",
    "svc.score(train_predictors, train_response)"
   ]
  },
  {
   "cell_type": "code",
   "execution_count": 23,
   "id": "d198c7e3-3092-49c9-b681-f83e0e70ffcb",
   "metadata": {},
   "outputs": [
    {
     "data": {
      "text/plain": [
       "0.9108147857633101"
      ]
     },
     "execution_count": 23,
     "metadata": {},
     "output_type": "execute_result"
    }
   ],
   "source": [
    "test_predictors = preprocessing.scale(test_predictors)\n",
    "svc.fit(test_predictors, test_response.values.ravel())\n",
    "svc.score(test_predictors, test_response)"
   ]
  },
  {
   "cell_type": "code",
   "execution_count": 24,
   "id": "33cdd7d8-0bbd-4daf-b957-c19bf37faae5",
   "metadata": {},
   "outputs": [
    {
     "data": {
      "text/plain": [
       "<AxesSubplot:>"
      ]
     },
     "execution_count": 24,
     "metadata": {},
     "output_type": "execute_result"
    },
    {
     "data": {
      "image/png": "[encoded data removed]",
      "text/plain": [
       "<Figure size 432x288 with 2 Axes>"
      ]
     },
     "metadata": {
      "needs_background": "light"
     },
     "output_type": "display_data"
    }
   ],
   "source": [
    "HD_predict = svc.predict(train_predictors)\n",
    "cm = confusion_matrix(HD_train, HD_predict)\n",
    "sb.heatmap(cm, annot = True, fmt=\".0f\", annot_kws={\"size\": 18})"
   ]
  },
  {
   "cell_type": "code",
   "execution_count": null,
   "id": "2f630fdf-c13a-439e-bc39-5ec82339cfab",
   "metadata": {},
   "outputs": [],
   "source": []
  }
 ],
 "metadata": {
  "kernelspec": {
   "display_name": "Python 3 (ipykernel)",
   "language": "python",
   "name": "python3"
  },
  "language_info": {
   "codemirror_mode": {
    "name": "ipython",
    "version": 3
   },
   "file_extension": ".py",
   "mimetype": "text/x-python",
   "name": "python",
   "nbconvert_exporter": "python",
   "pygments_lexer": "ipython3",
   "version": "3.9.2"
  }
 },
 "nbformat": 4,
 "nbformat_minor": 5
}
