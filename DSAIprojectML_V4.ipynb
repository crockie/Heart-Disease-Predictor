{
 "cells": [
  {
   "cell_type": "code",
   "execution_count": 1,
   "id": "feae4e1c-97b3-4cc4-abeb-b3b14ba065de",
   "metadata": {},
   "outputs": [],
   "source": [
    "#importing libraries\n",
    "import pandas as pd\n",
    "import matplotlib.pyplot as plt\n",
    "import numpy as np\n",
    "import seaborn as sb\n",
    "\n",
    "from sklearn.model_selection import train_test_split\n",
    "from sklearn.linear_model import LogisticRegression\n",
    "from sklearn.ensemble import RandomForestClassifier\n",
    "from sklearn.neighbors import KNeighborsRegressor\n",
    "from sklearn.svm import LinearSVC\n",
    "from sklearn.metrics import confusion_matrix\n"
   ]
  },
  {
   "cell_type": "code",
   "execution_count": 2,
   "id": "f538f25f-6ed0-4ee7-a2ac-f871886d2f7a",
   "metadata": {},
   "outputs": [
    {
     "data": {
      "text/plain": [
       "(255176, 20)"
      ]
     },
     "execution_count": 2,
     "metadata": {},
     "output_type": "execute_result"
    }
   ],
   "source": [
    "#getting the cleaned dataset\n",
    "dataset = pd.read_csv(\"Clean2019Data.csv\")\n",
    "dataset.shape"
   ]
  },
  {
   "cell_type": "code",
   "execution_count": 3,
   "id": "e90a545d",
   "metadata": {},
   "outputs": [],
   "source": [
    "train, test = train_test_split(dataset, test_size = 0.2)"
   ]
  },
  {
   "cell_type": "code",
   "execution_count": 4,
   "id": "262a437c",
   "metadata": {},
   "outputs": [
    {
     "data": {
      "text/plain": [
       "(51036, 1)"
      ]
     },
     "execution_count": 4,
     "metadata": {},
     "output_type": "execute_result"
    }
   ],
   "source": [
    "train_predictors = train.iloc[:,1:]\n",
    "train_response = train[['HeartDiseaseorAttack']]\n",
    "train_response.shape\n",
    "\n",
    "test_predictors = test.iloc[:,1:]\n",
    "test_response = test[['HeartDiseaseorAttack']]\n",
    "test_response.shape"
   ]
  },
  {
   "cell_type": "code",
   "execution_count": 5,
   "id": "555fa121-9df9-4609-bf9e-d3323e660b72",
   "metadata": {},
   "outputs": [],
   "source": [
    "#labelling our 1 predictor + 1 response\n",
    "#followed by splitting into train test set\n",
    "GenHealth_train = pd.DataFrame(train_predictors['GenHealth'])\n",
    "GenHealth_test = pd.DataFrame(test_predictors['GenHealth'])\n",
    "\n",
    "HD_train = train_response\n",
    "HD_test = test_response"
   ]
  },
  {
   "cell_type": "markdown",
   "id": "eccbb664-c1b8-444b-aa01-b404438007fb",
   "metadata": {},
   "source": [
    "# Using 1 Predictor (Logistic Regression)\n"
   ]
  },
  {
   "cell_type": "code",
   "execution_count": 6,
   "id": "6eb4e597-9e67-4941-b5b3-432297373005",
   "metadata": {},
   "outputs": [
    {
     "data": {
      "text/plain": [
       "LogisticRegression()"
      ]
     },
     "execution_count": 6,
     "metadata": {},
     "output_type": "execute_result"
    }
   ],
   "source": [
    "#saving logisticregression function to a variable and fitting it\n",
    "lr = LogisticRegression()\n",
    "lr.fit(GenHealth_train, HD_train.values.ravel())\n"
   ]
  },
  {
   "cell_type": "code",
   "execution_count": 7,
   "id": "69cf57bf-d7e0-4134-aff7-84b267c3904a",
   "metadata": {},
   "outputs": [
    {
     "data": {
      "text/plain": [
       "0.9097776036053689"
      ]
     },
     "execution_count": 7,
     "metadata": {},
     "output_type": "execute_result"
    }
   ],
   "source": [
    "#finding out the score of the fit\n",
    "lr.score(GenHealth_train, HD_train)"
   ]
  },
  {
   "cell_type": "code",
   "execution_count": 8,
   "id": "8b557c0e-2b90-49fc-a71b-7cdfb1ead82c",
   "metadata": {
    "scrolled": true
   },
   "outputs": [
    {
     "data": {
      "text/plain": [
       "<AxesSubplot:>"
      ]
     },
     "execution_count": 8,
     "metadata": {},
     "output_type": "execute_result"
    },
    {
     "data": {
      "image/png": "[encoded data removed]",
      "text/plain": [
       "<Figure size 432x288 with 2 Axes>"
      ]
     },
     "metadata": {
      "needs_background": "light"
     },
     "output_type": "display_data"
    }
   ],
   "source": [
    "#using confusion matrix to see the true positive rates etc. via heatmap\n",
    "HD_predict = lr.predict(GenHealth_train)\n",
    "cm = confusion_matrix(HD_train, HD_predict)\n",
    "sb.heatmap(cm, annot = True, fmt=\".0f\", annot_kws={\"size\": 18})"
   ]
  },
  {
   "cell_type": "markdown",
   "id": "32911fe7",
   "metadata": {},
   "source": [
    "#### We can see that by using one predictor we are unable to get any true positive. "
   ]
  },
  {
   "cell_type": "markdown",
   "id": "bc0f5adb-3b8c-4eb2-9fa8-540745eb8c92",
   "metadata": {},
   "source": [
    "# Using All Predictors (Logistic Regression)\n"
   ]
  },
  {
   "cell_type": "code",
   "execution_count": 9,
   "id": "68cc5afb-9380-42c8-90e6-e0765b248c80",
   "metadata": {},
   "outputs": [],
   "source": [
    "#same as above, but splitting the whole dataset into train test set instead of response + variable\n",
    "lr = LogisticRegression(solver = 'lbfgs', max_iter= 254972)\n"
   ]
  },
  {
   "cell_type": "code",
   "execution_count": 10,
   "id": "1fb11d59-35bb-4a89-9cc8-8dfa4dee92ce",
   "metadata": {},
   "outputs": [
    {
     "data": {
      "text/plain": [
       "(204140, 1)"
      ]
     },
     "execution_count": 10,
     "metadata": {},
     "output_type": "execute_result"
    }
   ],
   "source": [
    "train_response.shape"
   ]
  },
  {
   "cell_type": "code",
   "execution_count": 11,
   "id": "e9fd1e61-9854-4c5a-8a93-2842aaa83968",
   "metadata": {},
   "outputs": [
    {
     "name": "stdout",
     "output_type": "stream",
     "text": [
      "Logistic Regression with all Predictors gives a score of 0.9115410992456158 for the train set.\n"
     ]
    }
   ],
   "source": [
    "#finding out score of the fit on train set using all predictors\n",
    "lr.fit(train_predictors, train_response.values.ravel())\n",
    "print(f\"Logistic Regression with all Predictors gives a score of {lr.score(train_predictors, train_response)} for the train set.\")"
   ]
  },
  {
   "cell_type": "code",
   "execution_count": 12,
   "id": "e40eb072-f49c-4ed9-9525-844adcb45cb4",
   "metadata": {},
   "outputs": [
    {
     "name": "stdout",
     "output_type": "stream",
     "text": [
      "Logistic Regression with all Predictors gives a score of 0.9127870522768242 for the test set.\n"
     ]
    }
   ],
   "source": [
    "#finding out score of the fit on TEST set using all predictors\n",
    "LR_noOver_score = lr.score(test_predictors, test_response)\n",
    "print(f\"Logistic Regression with all Predictors gives a score of {lr.score(test_predictors, test_response)} for the test set.\")"
   ]
  },
  {
   "cell_type": "code",
   "execution_count": 13,
   "id": "d097eeab-b633-433f-922b-14cc790921ec",
   "metadata": {},
   "outputs": [
    {
     "data": {
      "text/plain": [
       "<AxesSubplot:>"
      ]
     },
     "execution_count": 13,
     "metadata": {},
     "output_type": "execute_result"
    },
    {
     "data": {
      "image/png": "[encoded data removed]",
      "text/plain": [
       "<Figure size 864x288 with 4 Axes>"
      ]
     },
     "metadata": {
      "needs_background": "light"
     },
     "output_type": "display_data"
    }
   ],
   "source": [
    "#checking out the confusion matrix on TRAIN set\n",
    "f, axes = plt.subplots(1, 2, figsize=(12, 4))\n",
    "\n",
    "#confusion matrix heatmap again to check true positives\n",
    "HD_predict = lr.predict(train_predictors)\n",
    "cm = confusion_matrix(train_response, HD_predict)\n",
    "sb.heatmap(cm, annot = True, fmt=\".0f\", annot_kws={\"size\": 18}, ax = axes[0])\n",
    "\n",
    "HD_test_predict = lr.predict(test_predictors)\n",
    "cm_LR_noOver = confusion_matrix(test_response, HD_test_predict)\n",
    "sb.heatmap(cm_LR_noOver, annot = True, fmt=\".0f\", annot_kws={\"size\": 18}, ax = axes[1])"
   ]
  },
  {
   "cell_type": "code",
   "execution_count": 14,
   "id": "3a07b8ac",
   "metadata": {},
   "outputs": [
    {
     "name": "stdout",
     "output_type": "stream",
     "text": [
      "The true positive rate is: 0.1222466960352423\n"
     ]
    }
   ],
   "source": [
    "CM_test = confusion_matrix(test_response, HD_test_predict)\n",
    "\n",
    "FP = CM_test.sum(axis=0) - np.diag(CM_test)  \n",
    "FN = CM_test.sum(axis=1) - np.diag(CM_test)\n",
    "TP = np.diag(CM_test)\n",
    "TN = CM_test.sum() - (FP + FN + TP)\n",
    "\n",
    "TPR = TP/(TP+FN)\n",
    "\n",
    "LR_noOver_tpr = TPR[1]\n",
    "\n",
    "print(f\"The true positive rate is: {LR_noOver_tpr}\")"
   ]
  },
  {
   "cell_type": "markdown",
   "id": "8a8631bd",
   "metadata": {},
   "source": [
    "# Using All Predictors (Decision tree)"
   ]
  },
  {
   "cell_type": "code",
   "execution_count": 15,
   "id": "7c229762",
   "metadata": {},
   "outputs": [
    {
     "name": "stdout",
     "output_type": "stream",
     "text": [
      "Goodness of Fit of Model \tTrain Dataset\n",
      "Classification Accuracy \t: 0.9104732046634663\n",
      "\n",
      "Goodness of Fit of Model \tTest Dataset\n",
      "Classification Accuracy \t: 0.9109844031663924\n",
      "\n"
     ]
    },
    {
     "data": {
      "text/plain": [
       "<AxesSubplot:>"
      ]
     },
     "execution_count": 15,
     "metadata": {},
     "output_type": "execute_result"
    },
    {
     "data": {
      "image/png": "[encoded data removed]",
      "text/plain": [
       "<Figure size 864x288 with 4 Axes>"
      ]
     },
     "metadata": {
      "needs_background": "light"
     },
     "output_type": "display_data"
    }
   ],
   "source": [
    "from sklearn.tree import DecisionTreeClassifier\n",
    "from sklearn.model_selection import train_test_split\n",
    "from sklearn.metrics import confusion_matrix\n",
    "\n",
    "train_predictors = train.iloc[:,1:]\n",
    "train_response = train[['HeartDiseaseorAttack']]\n",
    "\n",
    "test_predictors = test.iloc[:,1:]\n",
    "test_response = test[['HeartDiseaseorAttack']]\n",
    "\n",
    "# Decision Tree using Train Data\n",
    "dectree = DecisionTreeClassifier(max_depth = 4)  # create the decision tree object\n",
    "dectree.fit(train_predictors, train_response)    # train the decision tree model\n",
    "\n",
    "# Predict Response corresponding to Predictors\n",
    "y_train_pred = dectree.predict(train_predictors)\n",
    "y_test_pred = dectree.predict(test_predictors)\n",
    "\n",
    "# Check the Goodness of Fit (on Train Data)\n",
    "print(\"Goodness of Fit of Model \\tTrain Dataset\")\n",
    "print(\"Classification Accuracy \\t:\", dectree.score(train_predictors, train_response))\n",
    "print()\n",
    "\n",
    "# Check the Goodness of Fit (on Test Data)\n",
    "print(\"Goodness of Fit of Model \\tTest Dataset\")\n",
    "DT_noOver_score = dectree.score(test_predictors, test_response)\n",
    "print(\"Classification Accuracy \\t:\", DT_noOver_score)\n",
    "print()\n",
    "\n",
    "# Plot the Confusion Matrix for Train and Test\n",
    "f, axes = plt.subplots(1, 2, figsize=(12, 4))\n",
    "sb.heatmap(confusion_matrix(train_response, y_train_pred),\n",
    "           annot = True, fmt=\".0f\", annot_kws={\"size\": 18}, ax = axes[0])\n",
    "\n",
    "cm_DT_noOver = confusion_matrix(test_response, y_test_pred)\n",
    "sb.heatmap(cm_DT_noOver, \n",
    "           annot = True, fmt=\".0f\", annot_kws={\"size\": 18}, ax = axes[1])"
   ]
  },
  {
   "cell_type": "code",
   "execution_count": 16,
   "id": "96d3fda2",
   "metadata": {},
   "outputs": [
    {
     "name": "stdout",
     "output_type": "stream",
     "text": [
      "The true positive rate is: 0.06475770925110132\n"
     ]
    }
   ],
   "source": [
    "CM_test = confusion_matrix(test_response, y_test_pred)\n",
    "\n",
    "FP = CM_test.sum(axis=0) - np.diag(CM_test)  \n",
    "FN = CM_test.sum(axis=1) - np.diag(CM_test)\n",
    "TP = np.diag(CM_test)\n",
    "TN = CM_test.sum() - (FP + FN + TP)\n",
    "\n",
    "# Sensitivity, hit rate, recall, or true positive rate\n",
    "TPR = TP/(TP+FN)\n",
    "\n",
    "DT_noOver_tpr = TPR[1]\n",
    "\n",
    "print(f\"The true positive rate is: {DT_noOver_tpr}\")"
   ]
  },
  {
   "cell_type": "markdown",
   "id": "811feaea-687d-42a7-a8b4-cc377bde0c31",
   "metadata": {},
   "source": [
    "# Using all predictors (Random Forest Regression)"
   ]
  },
  {
   "cell_type": "code",
   "execution_count": 17,
   "id": "bbe3549d-96a4-4ea7-b56e-de622e248559",
   "metadata": {},
   "outputs": [
    {
     "data": {
      "text/plain": [
       "0.9868472616831586"
      ]
     },
     "execution_count": 17,
     "metadata": {},
     "output_type": "execute_result"
    }
   ],
   "source": [
    "#saving RandomForestClassifier function into variable rfc\n",
    "#fitting the model + finding out how well it fits on TRAIN set\n",
    "rfc = RandomForestClassifier(n_estimators = 100)\n",
    "rfc.fit(train_predictors, train_response.values.ravel())\n",
    "rfc.score(train_predictors, train_response)"
   ]
  },
  {
   "cell_type": "code",
   "execution_count": 18,
   "id": "86441d95-17bb-4bf5-a3d5-6c173473e853",
   "metadata": {},
   "outputs": [
    {
     "data": {
      "text/plain": [
       "0.9043224390626224"
      ]
     },
     "execution_count": 18,
     "metadata": {},
     "output_type": "execute_result"
    }
   ],
   "source": [
    "#fitting the model + finding out how well it fit on the TEST set\n",
    "rf_noOver_score = rfc.score(test_predictors, test_response)\n",
    "rfc.score(test_predictors, test_response)"
   ]
  },
  {
   "cell_type": "code",
   "execution_count": 19,
   "id": "1230fa34-c983-4743-85a7-d9d22e057d14",
   "metadata": {},
   "outputs": [
    {
     "data": {
      "text/plain": [
       "<AxesSubplot:>"
      ]
     },
     "execution_count": 19,
     "metadata": {},
     "output_type": "execute_result"
    },
    {
     "data": {
      "image/png": "[encoded data removed]",
      "text/plain": [
       "<Figure size 864x288 with 4 Axes>"
      ]
     },
     "metadata": {
      "needs_background": "light"
     },
     "output_type": "display_data"
    }
   ],
   "source": [
    "#checking out the confusion matrix on TRAIN set\n",
    "f, axes = plt.subplots(1, 2, figsize=(12, 4))\n",
    "\n",
    "HD_predict = rfc.predict(train_predictors)\n",
    "cm = confusion_matrix(train_response, HD_predict)\n",
    "sb.heatmap(cm, annot = True, fmt=\".0f\", annot_kws={\"size\": 18}, ax = axes[0])\n",
    "\n",
    "HD_test_predict = rfc.predict(test_predictors)\n",
    "rf_noOver = confusion_matrix(test_response, HD_test_predict)\n",
    "sb.heatmap(rf_noOver, annot = True, fmt=\".0f\", annot_kws={\"size\": 18}, ax = axes[1])"
   ]
  },
  {
   "cell_type": "code",
   "execution_count": null,
   "id": "a4895136-3b25-4733-bbb6-25a43116700b",
   "metadata": {},
   "outputs": [],
   "source": [
    "FP = rf_noOver.sum(axis=0) - np.diag(rf_noOver)  \n",
    "FN = rf_noOvert.sum(axis=1) - np.diag(rf_noOver)\n",
    "TP = np.diag(rf_noOver)\n",
    "TN = rf_noOver.sum() - (FP + FN + TP)\n",
    "\n",
    "# Sensitivity, hit rate, recall, or true positive rate\n",
    "TPR = TP/(TP+FN)\n",
    "\n",
    "rf_noOver_tpr = TPR[1]\n",
    "\n",
    "print(f\"The true positive rate is: {rf_noOver_tpr}\")"
   ]
  },
  {
   "cell_type": "markdown",
   "id": "10185cda-c4cf-44aa-8ba6-9ad3412e58ed",
   "metadata": {},
   "source": [
    "# Using all Predictors (Support Vector Classification with C=1.0)"
   ]
  },
  {
   "cell_type": "code",
   "execution_count": 20,
   "id": "a68d4830",
   "metadata": {},
   "outputs": [],
   "source": [
    "# Reasoning for preprocessing"
   ]
  },
  {
   "cell_type": "code",
   "execution_count": 21,
   "id": "3130b536-cdca-4a9a-8391-f5f6762199bd",
   "metadata": {},
   "outputs": [
    {
     "data": {
      "text/plain": [
       "(204140, 19)"
      ]
     },
     "execution_count": 21,
     "metadata": {},
     "output_type": "execute_result"
    }
   ],
   "source": [
    "from sklearn import preprocessing\n",
    "train_predictors = preprocessing.scale(train_predictors)\n",
    "train_predictors.shape"
   ]
  },
  {
   "cell_type": "code",
   "execution_count": 22,
   "id": "bf4fc211-7b5a-446c-8af6-9df0b201f0c4",
   "metadata": {},
   "outputs": [
    {
     "data": {
      "text/plain": [
       "0.9112618791025766"
      ]
     },
     "execution_count": 22,
     "metadata": {},
     "output_type": "execute_result"
    }
   ],
   "source": [
    "#saving function LinearSVC as svc\n",
    "#fitting + finding out score on TRAIN set\n",
    "svc = LinearSVC(C=1.0, max_iter=203977)\n",
    "svc.fit(train_predictors, train_response.values.ravel())\n",
    "svc.score(train_predictors, train_response)"
   ]
  },
  {
   "cell_type": "code",
   "execution_count": 23,
   "id": "d198c7e3-3092-49c9-b681-f83e0e70ffcb",
   "metadata": {},
   "outputs": [
    {
     "data": {
      "text/plain": [
       "0.9120228858060977"
      ]
     },
     "execution_count": 23,
     "metadata": {},
     "output_type": "execute_result"
    }
   ],
   "source": [
    "#fitting + finding out score on TEST set\n",
    "test_predictors = preprocessing.scale(test_predictors)\n",
    "svc_noOver_score = svc.score(test_predictors, test_response)\n",
    "svc.score(test_predictors, test_response)"
   ]
  },
  {
   "cell_type": "code",
   "execution_count": 24,
   "id": "33cdd7d8-0bbd-4daf-b957-c19bf37faae5",
   "metadata": {
    "scrolled": true
   },
   "outputs": [
    {
     "data": {
      "text/plain": [
       "<AxesSubplot:>"
      ]
     },
     "execution_count": 24,
     "metadata": {},
     "output_type": "execute_result"
    },
    {
     "data": {
      "image/png": "[encoded data removed]",
      "text/plain": [
       "<Figure size 864x288 with 4 Axes>"
      ]
     },
     "metadata": {
      "needs_background": "light"
     },
     "output_type": "display_data"
    }
   ],
   "source": [
    "#checking out the confusion matrix on TRAIN set\n",
    "f, axes = plt.subplots(1, 2, figsize=(12, 4))\n",
    "\n",
    "HD_predict = svc.predict(train_predictors)\n",
    "cm = confusion_matrix(train_response, HD_predict)\n",
    "sb.heatmap(cm, annot = True, fmt=\".0f\", annot_kws={\"size\": 18}, ax = axes[0])\n",
    "\n",
    "HD_test_predict = svc.predict(test_predictors)\n",
    "svc_noOver = confusion_matrix(test_response, HD_test_predict)\n",
    "sb.heatmap(svc_noOver, annot = True, fmt=\".0f\", annot_kws={\"size\": 18}, ax = axes[1])"
   ]
  },
  {
   "cell_type": "code",
   "execution_count": null,
   "id": "c56d637c-4f56-412c-b863-312bf8315834",
   "metadata": {},
   "outputs": [],
   "source": [
    "FP = svc_noOver.sum(axis=0) - np.diag(svc_noOver)  \n",
    "FN = svc_noOver.sum(axis=1) - np.diag(svc_noOver)\n",
    "TP = np.diag(svc_noOver)\n",
    "TN = svc_noOver.sum() - (FP + FN + TP)\n",
    "\n",
    "# Sensitivity, hit rate, recall, or true positive rate\n",
    "TPR = TP/(TP+FN)\n",
    "\n",
    "svc_noOver_tpr = TPR[1]\n",
    "\n",
    "print(f\"The true positive rate is: {svc_noOver_tpr}\")"
   ]
  },
  {
   "cell_type": "markdown",
   "id": "3899e8fc",
   "metadata": {},
   "source": [
    "# Using all Predictors Decision tree with no oversampling"
   ]
  },
  {
   "cell_type": "code",
   "execution_count": 25,
   "id": "0633afca",
   "metadata": {},
   "outputs": [
    {
     "name": "stdout",
     "output_type": "stream",
     "text": [
      "Goodness of Fit of Model \tTrain Dataset\n",
      "Classification Accuracy \t: 0.9104732046634663\n",
      "\n",
      "Goodness of Fit of Model \tTest Dataset\n",
      "Classification Accuracy \t: 0.9109844031663924\n",
      "\n"
     ]
    },
    {
     "data": {
      "text/plain": [
       "<AxesSubplot:>"
      ]
     },
     "execution_count": 25,
     "metadata": {},
     "output_type": "execute_result"
    },
    {
     "data": {
      "image/png": "[encoded data removed]",
      "text/plain": [
       "<Figure size 864x288 with 4 Axes>"
      ]
     },
     "metadata": {
      "needs_background": "light"
     },
     "output_type": "display_data"
    }
   ],
   "source": [
    "from sklearn.tree import DecisionTreeClassifier\n",
    "from sklearn.model_selection import train_test_split\n",
    "from sklearn.metrics import confusion_matrix\n",
    "\n",
    "train_predictors = train.iloc[:,1:]\n",
    "train_response = train[['HeartDiseaseorAttack']]\n",
    "\n",
    "test_predictors = test.iloc[:,1:]\n",
    "test_response = test[['HeartDiseaseorAttack']]\n",
    "\n",
    "# Decision Tree using Train Data\n",
    "dectree = DecisionTreeClassifier(max_depth = 4)  # create the decision tree object\n",
    "dectree.fit(train_predictors, train_response)    # train the decision tree model\n",
    "\n",
    "# Predict Response corresponding to Predictors\n",
    "y_train_pred = dectree.predict(train_predictors)\n",
    "y_test_pred = dectree.predict(test_predictors)\n",
    "\n",
    "# Check the Goodness of Fit (on Train Data)\n",
    "print(\"Goodness of Fit of Model \\tTrain Dataset\")\n",
    "print(\"Classification Accuracy \\t:\", dectree.score(train_predictors, train_response))\n",
    "print()\n",
    "\n",
    "# Check the Goodness of Fit (on Test Data)\n",
    "print(\"Goodness of Fit of Model \\tTest Dataset\")\n",
    "DT_noOver_score = dectree.score(test_predictors, test_response)\n",
    "print(\"Classification Accuracy \\t:\", DT_noOver_score)\n",
    "print()\n",
    "\n",
    "# Plot the Confusion Matrix for Train and Test\n",
    "f, axes = plt.subplots(1, 2, figsize=(12, 4))\n",
    "sb.heatmap(confusion_matrix(train_response, y_train_pred),\n",
    "           annot = True, fmt=\".0f\", annot_kws={\"size\": 18}, ax = axes[0])\n",
    "\n",
    "cm_DT_noOver = confusion_matrix(test_response, y_test_pred)\n",
    "sb.heatmap(cm_DT_noOver, \n",
    "           annot = True, fmt=\".0f\", annot_kws={\"size\": 18}, ax = axes[1])"
   ]
  },
  {
   "cell_type": "markdown",
   "id": "91b52ffb",
   "metadata": {},
   "source": [
    "# Creating oversampling data"
   ]
  },
  {
   "cell_type": "code",
   "execution_count": 26,
   "id": "64239b21",
   "metadata": {},
   "outputs": [
    {
     "name": "stdout",
     "output_type": "stream",
     "text": [
      "No Heart Disease: 185722\n",
      "Has Heart Disease: 18418\n"
     ]
    },
    {
     "data": {
      "text/plain": [
       "(371444, 20)"
      ]
     },
     "execution_count": 26,
     "metadata": {},
     "output_type": "execute_result"
    }
   ],
   "source": [
    "HD_0, HD_1 = train['HeartDiseaseorAttack'].value_counts()\n",
    "\n",
    "HD_class_0 = train[train['HeartDiseaseorAttack'] == 0]\n",
    "HD_class_1 = train[train['HeartDiseaseorAttack'] == 1]\n",
    "\n",
    "print(f\"No Heart Disease: {HD_0}\")\n",
    "print(f\"Has Heart Disease: {HD_1}\")\n",
    "\n",
    "# Oversample people with heart disease for test case\n",
    "df_class_1_over = HD_class_1.sample(HD_0, replace=True)\n",
    "df_test_over = pd.concat([HD_class_0, df_class_1_over], axis=0)\n",
    "\n",
    "df_test_over.shape"
   ]
  },
  {
   "cell_type": "code",
   "execution_count": 27,
   "id": "23609b98",
   "metadata": {},
   "outputs": [
    {
     "data": {
      "text/plain": [
       "0.0    185722\n",
       "1.0    185722\n",
       "Name: HeartDiseaseorAttack, dtype: int64"
      ]
     },
     "execution_count": 27,
     "metadata": {},
     "output_type": "execute_result"
    }
   ],
   "source": [
    "df_test_over['HeartDiseaseorAttack'].value_counts()"
   ]
  },
  {
   "cell_type": "code",
   "execution_count": 28,
   "id": "17a492b6",
   "metadata": {},
   "outputs": [],
   "source": [
    "X_train = df_test_over.iloc[:,1:]\n",
    "y_train = df_test_over[['HeartDiseaseorAttack']]\n",
    "\n",
    "X_test = test.iloc[:,1:]\n",
    "y_test = test[['HeartDiseaseorAttack']]"
   ]
  },
  {
   "cell_type": "markdown",
   "id": "af0d524d",
   "metadata": {},
   "source": [
    "# Logistic Regression with oversampling"
   ]
  },
  {
   "cell_type": "code",
   "execution_count": 29,
   "id": "e8599aa6",
   "metadata": {},
   "outputs": [
    {
     "name": "stdout",
     "output_type": "stream",
     "text": [
      "Logistic Regression gives a score of 0.7704068446387612 for the train set.\n",
      "Logistic Regression gives a score of 0.7490007053844345 for the test set.\n"
     ]
    },
    {
     "data": {
      "text/plain": [
       "<AxesSubplot:>"
      ]
     },
     "execution_count": 29,
     "metadata": {},
     "output_type": "execute_result"
    },
    {
     "data": {
      "image/png": "[encoded data removed]",
      "text/plain": [
       "<Figure size 864x288 with 4 Axes>"
      ]
     },
     "metadata": {
      "needs_background": "light"
     },
     "output_type": "display_data"
    }
   ],
   "source": [
    "train_predictors = X_train\n",
    "train_response = y_train\n",
    "\n",
    "test_predictors = X_test\n",
    "test_response = y_test\n",
    "\n",
    "lr.fit(train_predictors, train_response.values.ravel())\n",
    "print(f\"Logistic Regression gives a score of {lr.score(train_predictors, train_response)} for the train set.\")\n",
    "\n",
    "\n",
    "LR_Over_score = lr.score(test_predictors, test_response)\n",
    "print(f\"Logistic Regression gives a score of {LR_Over_score} for the test set.\")\n",
    "\n",
    "f, axes = plt.subplots(1, 2, figsize=(12, 4))\n",
    "\n",
    "HD_train_predict = lr.predict(train_predictors)\n",
    "cm = confusion_matrix(train_response, HD_train_predict)\n",
    "sb.heatmap(cm, annot = True, fmt=\".0f\", annot_kws={\"size\": 18}, ax = axes[0])\n",
    "\n",
    "HD_test_predict = lr.predict(test_predictors)\n",
    "cm_LR_over = confusion_matrix(test_response, HD_test_predict)\n",
    "sb.heatmap(cm_LR_over, annot = True, fmt=\".0f\", annot_kws={\"size\": 18}, ax = axes[1])"
   ]
  },
  {
   "cell_type": "code",
   "execution_count": null,
   "id": "b0757612-a3e0-41ac-bb34-39808850e87f",
   "metadata": {},
   "outputs": [],
   "source": [
    "CM_test = confusion_matrix(test_response, HD_test_predict)\n",
    "\n",
    "FP = CM_test.sum(axis=0) - np.diag(CM_test)  \n",
    "FN = CM_test.sum(axis=1) - np.diag(CM_test)\n",
    "TP = np.diag(CM_test)\n",
    "TN = CM_test.sum() - (FP + FN + TP)\n",
    "\n",
    "# Sensitivity, hit rate, recall, or true positive rate\n",
    "TPR = TP/(TP+FN)\n",
    "\n",
    "LR_Over_tpr = TPR[1]\n",
    "\n",
    "print(f\"The true positive rate is: {LR_Over_tpr}\")"
   ]
  },
  {
   "cell_type": "markdown",
   "id": "cf5b36f7-cac7-4bb5-a3c5-9b58b1addecf",
   "metadata": {},
   "source": [
    "## Random Forest with Oversampling"
   ]
  },
  {
   "cell_type": "code",
   "execution_count": 30,
   "id": "7281dcac-09e8-4357-9585-8c994c9259be",
   "metadata": {},
   "outputs": [
    {
     "name": "stdout",
     "output_type": "stream",
     "text": [
      "Random Forest gives a score of 0.9788985688286794 for the train set.\n",
      "Random Forest gives a score of 0.8722666353162474 for the test set.\n"
     ]
    },
    {
     "data": {
      "text/plain": [
       "<AxesSubplot:>"
      ]
     },
     "execution_count": 30,
     "metadata": {},
     "output_type": "execute_result"
    },
    {
     "data": {
      "image/png": "[encoded data removed]",
      "text/plain": [
       "<Figure size 864x288 with 4 Axes>"
      ]
     },
     "metadata": {
      "needs_background": "light"
     },
     "output_type": "display_data"
    }
   ],
   "source": [
    "rfc.fit(train_predictors, train_response.values.ravel())\n",
    "print(f\"Random Forest gives a score of {rfc.score(train_predictors, train_response)} for the train set.\")\n",
    "\n",
    "rf_Over_score = rfc.score(test_predictors, test_response)\n",
    "print(f\"Random Forest gives a score of {rf_Over_score} for the test set.\")\n",
    "\n",
    "f, axes = plt.subplots(1, 2, figsize=(12, 4))\n",
    "\n",
    "HD_predict = rfc.predict(train_predictors)\n",
    "cm = confusion_matrix(train_response, HD_predict)\n",
    "sb.heatmap(cm, annot = True, fmt=\".0f\", annot_kws={\"size\": 18}, ax = axes[0])\n",
    "\n",
    "HD_test_predict = rfc.predict(test_predictors)\n",
    "rf_Over = confusion_matrix(test_response, HD_test_predict)\n",
    "sb.heatmap(rf_Over, annot = True, fmt=\".0f\", annot_kws={\"size\": 18}, ax = axes[1])"
   ]
  },
  {
   "cell_type": "code",
   "execution_count": null,
   "id": "ca62bcfb-eaa8-469d-b4f9-b92a760dceeb",
   "metadata": {},
   "outputs": [],
   "source": [
    "FP = rf_Over.sum(axis=0) - np.diag(rf_Over)  \n",
    "FN = rf_Over.sum(axis=1) - np.diag(rf_Over)\n",
    "TP = np.diag(rf_Over)\n",
    "TN = rf_Over.sum() - (FP + FN + TP)\n",
    "\n",
    "# Sensitivity, hit rate, recall, or true positive rate\n",
    "TPR = TP/(TP+FN)\n",
    "\n",
    "rf_Over_tpr = TPR[1]\n",
    "\n",
    "print(f\"The true positive rate is: {rf_Over_tpr}\")"
   ]
  },
  {
   "cell_type": "markdown",
   "id": "aa59a29c-311a-4a77-83cd-46bac2430d96",
   "metadata": {},
   "source": [
    "## SVC with Oversampling\n"
   ]
  },
  {
   "cell_type": "code",
   "execution_count": null,
   "id": "45b97b6a-1574-4db4-819e-d75718f3cbb8",
   "metadata": {},
   "outputs": [],
   "source": [
    "svc.fit(train_predictors, train_response.values.ravel())\n",
    "print(f\"SVC gives a score of {svc.score(train_predictors, train_response)} for the train set.\")\n",
    "\n",
    "svc_Over_score = rfc.score(test_predictors, test_response)\n",
    "print(f\"SVC gives a score of {svc_Over_score} for the test set.\")\n",
    "\n",
    "f, axes = plt.subplots(1, 2, figsize=(12, 4))\n",
    "\n",
    "HD_predict = svc.predict(train_predictors)\n",
    "cm = confusion_matrix(train_response, HD_predict)\n",
    "sb.heatmap(cm, annot = True, fmt=\".0f\", annot_kws={\"size\": 18}, ax = axes[0])\n",
    "\n",
    "HD_test_predict = svc.predict(test_predictors)\n",
    "svc_Over = confusion_matrix(test_response, HD_test_predict)\n",
    "sb.heatmap(svc_Over, annot = True, fmt=\".0f\", annot_kws={\"size\": 18}, ax = axes[1])"
   ]
  },
  {
   "cell_type": "code",
   "execution_count": null,
   "id": "a9cca019-bf63-4603-86a2-e00513b133e9",
   "metadata": {},
   "outputs": [],
   "source": [
    "FP = svc_Over.sum(axis=0) - np.diag(svc_Over)  \n",
    "FN = svc_Over.sum(axis=1) - np.diag(svc_Over)\n",
    "TP = np.diag(svc_Over)\n",
    "TN = svc_Over.sum() - (FP + FN + TP)\n",
    "\n",
    "# Sensitivity, hit rate, recall, or true positive rate\n",
    "TPR = TP/(TP+FN)\n",
    "\n",
    "svc_Over_tpr = TPR[1]\n",
    "\n",
    "print(f\"The true positive rate is: {svc_Over_tpr}\")"
   ]
  },
  {
   "cell_type": "markdown",
   "id": "7ce12d02",
   "metadata": {},
   "source": [
    "# Oversampling with decision tree"
   ]
  },
  {
   "cell_type": "code",
   "execution_count": null,
   "id": "358634d7",
   "metadata": {},
   "outputs": [],
   "source": [
    "# Import essential models and functions from sklearn\n",
    "from sklearn.tree import DecisionTreeClassifier\n",
    "from sklearn.model_selection import train_test_split\n",
    "from sklearn.metrics import confusion_matrix\n",
    "\n",
    "# Decision Tree using Train Data\n",
    "dectree = DecisionTreeClassifier(max_depth = 4)  # create the decision tree object\n",
    "dectree.fit(X_train, y_train)                    # train the decision tree model\n",
    "\n",
    "# Predict Response corresponding to Predictors\n",
    "y_train_pred = dectree.predict(X_train)\n",
    "y_test_pred = dectree.predict(X_test)\n",
    "\n",
    "# Check the Goodness of Fit (on Train Data)\n",
    "print(\"Goodness of Fit of Model \\tTrain Dataset\")\n",
    "print(\"Classification Accuracy \\t:\", dectree.score(X_train, y_train))\n",
    "print()\n",
    "\n",
    "# Check the Goodness of Fit (on Test Data)\n",
    "print(\"Goodness of Fit of Model \\tTest Dataset\")\n",
    "DT_Over_score = dectree.score(X_test, y_test)\n",
    "print(\"Classification Accuracy \\t:\", DT_Over_score)\n",
    "print()\n",
    "\n",
    "# Plot the Confusion Matrix for Train and Test\n",
    "f, axes = plt.subplots(1, 2, figsize=(12, 4))\n",
    "sb.heatmap(confusion_matrix(y_train, y_train_pred),\n",
    "           annot = True, fmt=\".0f\", annot_kws={\"size\": 18}, ax = axes[0])\n",
    "\n",
    "cm_DT_Over = confusion_matrix(y_test, y_test_pred)\n",
    "sb.heatmap(cm_DT_Over, \n",
    "           annot = True, fmt=\".0f\", annot_kws={\"size\": 18}, ax = axes[1])"
   ]
  },
  {
   "cell_type": "code",
   "execution_count": null,
   "id": "73037805",
   "metadata": {},
   "outputs": [],
   "source": [
    "CM_test = confusion_matrix(y_test, y_test_pred)\n",
    "\n",
    "FP = CM_test.sum(axis=0) - np.diag(CM_test)  \n",
    "FN = CM_test.sum(axis=1) - np.diag(CM_test)\n",
    "TP = np.diag(CM_test)\n",
    "TN = CM_test.sum() - (FP + FN + TP)\n",
    "\n",
    "# Sensitivity, hit rate, recall, or true positive rate\n",
    "TPR = TP/(TP+FN)\n",
    "\n",
    "DT_Over_tpr = TPR[1]\n",
    "\n",
    "print(f\"The true positive rate is: {DT_Over_tpr}\")"
   ]
  },
  {
   "cell_type": "markdown",
   "id": "8d5b68da",
   "metadata": {},
   "source": [
    "# Using SMOTE and logistic regression\n"
   ]
  },
  {
   "cell_type": "code",
   "execution_count": null,
   "id": "0fc1a416",
   "metadata": {},
   "outputs": [],
   "source": [
    "import imblearn\n",
    "from imblearn.over_sampling import SMOTE\n",
    "from sklearn.metrics import accuracy_score, f1_score, confusion_matrix, recall_score"
   ]
  },
  {
   "cell_type": "code",
   "execution_count": null,
   "id": "63745cdc",
   "metadata": {},
   "outputs": [],
   "source": [
    "train_predictors = train.iloc[:,1:]\n",
    "train_response = train[['HeartDiseaseorAttack']]\n",
    "\n",
    "test_predictors = test.iloc[:,1:]\n",
    "test_response = test[['HeartDiseaseorAttack']]\n",
    "\n",
    "sm = SMOTE(sampling_strategy = 'minority')\n",
    "Xsm_train, ysm_train = sm.fit_resample(train_predictors, train_response)\n",
    "\n",
    "smote = LogisticRegression(solver='lbfgs', max_iter= 254972).fit(Xsm_train, ysm_train.values.ravel())\n",
    "\n",
    "smote_pred = smote.predict(X_test)\n",
    "\n",
    "# Checking accuracy\n",
    "smote_score = accuracy_score(test_response, smote_pred)\n",
    "print(f\"Logistic Regression with 1 Predictor gives a score of {smote_score} for the test set.\")\n",
    "cm_smote = confusion_matrix(test_response, smote_pred)\n",
    "sb.heatmap(cm_smote, annot = True, fmt=\".0f\", annot_kws={\"size\": 18})"
   ]
  },
  {
   "cell_type": "code",
   "execution_count": null,
   "id": "01830f9e",
   "metadata": {},
   "outputs": [],
   "source": [
    "CM_test = confusion_matrix(test_response, smote_pred)\n",
    "\n",
    "FP = CM_test.sum(axis=0) - np.diag(CM_test)  \n",
    "FN = CM_test.sum(axis=1) - np.diag(CM_test)\n",
    "TP = np.diag(CM_test)\n",
    "TN = CM_test.sum() - (FP + FN + TP)\n",
    "\n",
    "# Sensitivity, hit rate, recall, or true positive rate\n",
    "TPR = TP/(TP+FN)\n",
    "\n",
    "smote_tpr = TPR[1]\n",
    "print(f\"The true positive rate is: {smote_tpr}\")"
   ]
  },
  {
   "cell_type": "markdown",
   "id": "e48af81f",
   "metadata": {},
   "source": [
    "# Comparison of Models"
   ]
  },
  {
   "cell_type": "code",
   "execution_count": null,
   "id": "89675913",
   "metadata": {},
   "outputs": [],
   "source": [
    "f, axes = plt.subplots(4, 2, figsize=(12, 12))\n",
    "f.delaxes(axes[4,1])\n",
    "\n",
    "sb.heatmap(cm_LR_noOver, annot = True, fmt=\".0f\", annot_kws={\"size\": 18}, ax = axes[0][0])\n",
    "sb.heatmap(cm_LR_over, annot = True, fmt=\".0f\", annot_kws={\"size\": 18}, ax = axes[0][1])\n",
    "sb.heatmap(cm_DT_noOver, annot = True, fmt=\".0f\", annot_kws={\"size\": 18}, ax = axes[1][0])\n",
    "sb.heatmap(cm_DT_Over, annot = True, fmt=\".0f\", annot_kws={\"size\": 18}, ax = axes[1][1])\n",
    "sb.heatmap(rf_noOver, annot = True, fmt=\".0f\", annot_kws={\"size\": 18}, ax = axes[2][0])\n",
    "sb.heatmap(rf_Over, annot = True, fmt=\".0f\", annot_kws={\"size\": 18}, ax = axes[2][1])\n",
    "sb.heatmap(svc_noOver, annot = True, fmt=\".0f\", annot_kws={\"size\": 18}, ax = axes[3][0])\n",
    "sb.heatmap(svc_Over, annot = True, fmt=\".0f\", annot_kws={\"size\": 18}, ax = axes[3][1])\n",
    "sb.heatmap(cm_smote, annot = True, fmt=\".0f\", annot_kws={\"size\": 18}, ax = axes[4][0])\n",
    "\n",
    "axes[0, 0].set_title(\"Logistic Regression no Oversampling\")\n",
    "axes[0, 1].set_title(\"Logistic Regression with Oversampling\")\n",
    "axes[1, 0].set_title(\"Decision Tree no Oversampling\")\n",
    "axes[1, 1].set_title(\"Decision Tree with Oversampling\")\n",
    "axes[2, 0].set_title(\"Random Forest no Oversampling\")\n",
    "axes[2, 1].set_title(\"Random Forest with Oversampling\")\n",
    "axes[3, 0].set_title(\"SVC no Oversampling\")\n",
    "axes[3, 0].set_title(\"SVC with Oversampling\")\n",
    "axes[4, 0].set_title(\"Logistic Regression with SMOTE\")"
   ]
  },
  {
   "cell_type": "code",
   "execution_count": null,
   "id": "35de83ca",
   "metadata": {},
   "outputs": [],
   "source": [
    "print(f\"Logistic Regression no Oversampling Classification Accuracy: {LR_noOver_score}, true positive rate is: {LR_noOver_tpr}\")\n",
    "print(f\"Logistic Regression with Oversampling Classification Accuracy: {LR_Over_score}, true positive rate is: {LR_Over_tpr}\")\n",
    "print(f\"Decision Tree no Oversampling Classification Accuracy: {DT_noOver_score}, true positive rate is: {DT_noOver_tpr}\")\n",
    "print(f\"Decision Tree with Oversampling Classification Accuracy: {DT_Over_score}, true positive rate is: {DT_Over_tpr}\")\n",
    "print(f\"Random Forest no Oversampling Classification Accuracy: {rf_noOver_score}, true positive rate is: {rf_noOver_tpr}\")\n",
    "print(f\"Random Forest with Oversampling Classification Accuracy: {rf_Over_score}, true positive rate is: {rf_Over_tpr}\")\n",
    "print(f\"SVC with Oversampling Classification Accuracy: {svc_noOver_score}, true positive rate is: {svc_noOver_tpr}\")\n",
    "print(f\"SVC with Oversampling Classification Accuracy: {svc_Over_score}, true positive rate is: {svc_Over_tpr}\")\n",
    "print(f\"SMOTE Classification Accuracy: {smote_score}, true positive rate is: {smote_tpr}\")"
   ]
  },
  {
   "cell_type": "code",
   "execution_count": null,
   "id": "f78d0a2a",
   "metadata": {},
   "outputs": [],
   "source": []
  }
 ],
 "metadata": {
  "kernelspec": {
   "display_name": "Python 3 (ipykernel)",
   "language": "python",
   "name": "python3"
  },
  "language_info": {
   "codemirror_mode": {
    "name": "ipython",
    "version": 3
   },
   "file_extension": ".py",
   "mimetype": "text/x-python",
   "name": "python",
   "nbconvert_exporter": "python",
   "pygments_lexer": "ipython3",
   "version": "3.9.2"
  }
 },
 "nbformat": 4,
 "nbformat_minor": 5
}
