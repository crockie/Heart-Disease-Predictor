{
 "cells": [
  {
   "cell_type": "code",
   "execution_count": 1,
   "id": "709e7ede",
   "metadata": {},
   "outputs": [],
   "source": [
    "import pandas as pd\n",
    "import matplotlib.pyplot as plt\n",
    "import numpy as np\n",
    "import seaborn as sb\n",
    "\n",
    "from sklearn.model_selection import train_test_split\n",
    "from sklearn.linear_model import LogisticRegression\n",
    "from sklearn.ensemble import RandomForestClassifier\n",
    "from sklearn.neighbors import KNeighborsRegressor\n",
    "from sklearn.svm import LinearSVC\n",
    "from sklearn.metrics import confusion_matrix"
   ]
  },
  {
   "cell_type": "code",
   "execution_count": 2,
   "id": "b06c77cb",
   "metadata": {},
   "outputs": [
    {
     "data": {
      "text/plain": [
       "(254972, 21)"
      ]
     },
     "execution_count": 2,
     "metadata": {},
     "output_type": "execute_result"
    }
   ],
   "source": [
    "dataset = pd.read_csv(\"Clean2019Data.csv\")\n",
    "dataset.shape"
   ]
  },
  {
   "cell_type": "code",
   "execution_count": 3,
   "id": "c38d2d6b",
   "metadata": {},
   "outputs": [],
   "source": [
    "train, test = train_test_split(dataset, test_size = 0.2)"
   ]
  },
  {
   "cell_type": "code",
   "execution_count": 4,
   "id": "79129df5",
   "metadata": {},
   "outputs": [
    {
     "name": "stdout",
     "output_type": "stream",
     "text": [
      "No Heart Disease: 185573\n",
      "Has Heart Disease: 18404\n"
     ]
    },
    {
     "data": {
      "text/plain": [
       "(371146, 21)"
      ]
     },
     "execution_count": 4,
     "metadata": {},
     "output_type": "execute_result"
    }
   ],
   "source": [
    "# Class count\n",
    "HD_0, HD_1 = train['HeartDiseaseorAttack'].value_counts()\n",
    "\n",
    "# Divide by class\n",
    "HD_class_0 = train[train['HeartDiseaseorAttack'] == 0]\n",
    "HD_class_1 = train[train['HeartDiseaseorAttack'] == 1]\n",
    "\n",
    "print(f\"No Heart Disease: {HD_0}\")\n",
    "print(f\"Has Heart Disease: {HD_1}\")\n",
    "\n",
    "# Oversample people with heart disease for test case\n",
    "df_class_1_over = HD_class_1.sample(HD_0, replace=True)\n",
    "df_test_over = pd.concat([HD_class_0, df_class_1_over], axis=0)\n",
    "\n",
    "df_test_over.shape"
   ]
  },
  {
   "cell_type": "code",
   "execution_count": 5,
   "id": "0c438995",
   "metadata": {},
   "outputs": [],
   "source": [
    "X_train = df_test_over.iloc[:,1:11]\n",
    "y_train = df_test_over[['HeartDiseaseorAttack']]\n",
    "\n",
    "X_test = test.iloc[:,1:11]\n",
    "y_test = test[['HeartDiseaseorAttack']]"
   ]
  },
  {
   "cell_type": "markdown",
   "id": "f45778da",
   "metadata": {},
   "source": [
    "# Oversampling with decision tree"
   ]
  },
  {
   "cell_type": "code",
   "execution_count": 6,
   "id": "fea10bf5",
   "metadata": {
    "scrolled": true
   },
   "outputs": [
    {
     "name": "stdout",
     "output_type": "stream",
     "text": [
      "Goodness of Fit of Model \tTrain Dataset\n",
      "Classification Accuracy \t: 0.6960172007781305\n",
      "\n",
      "Goodness of Fit of Model \tTest Dataset\n",
      "Classification Accuracy \t: 0.771663888616531\n",
      "\n"
     ]
    },
    {
     "data": {
      "text/plain": [
       "<AxesSubplot:>"
      ]
     },
     "execution_count": 6,
     "metadata": {},
     "output_type": "execute_result"
    },
    {
     "data": {
      "image/png": "[encoded data removed]",
      "text/plain": [
       "<Figure size 864x288 with 4 Axes>"
      ]
     },
     "metadata": {
      "needs_background": "light"
     },
     "output_type": "display_data"
    }
   ],
   "source": [
    "# Import essential models and functions from sklearn\n",
    "from sklearn.tree import DecisionTreeClassifier\n",
    "from sklearn.model_selection import train_test_split\n",
    "from sklearn.metrics import confusion_matrix\n",
    "\n",
    "# Decision Tree using Train Data\n",
    "dectree = DecisionTreeClassifier(max_depth = 3)  # create the decision tree object\n",
    "dectree.fit(X_train, y_train)                    # train the decision tree model\n",
    "\n",
    "# Predict Response corresponding to Predictors\n",
    "y_train_pred = dectree.predict(X_train)\n",
    "y_test_pred = dectree.predict(X_test)\n",
    "\n",
    "# Check the Goodness of Fit (on Train Data)\n",
    "print(\"Goodness of Fit of Model \\tTrain Dataset\")\n",
    "print(\"Classification Accuracy \\t:\", dectree.score(X_train, y_train))\n",
    "print()\n",
    "\n",
    "# Check the Goodness of Fit (on Test Data)\n",
    "print(\"Goodness of Fit of Model \\tTest Dataset\")\n",
    "print(\"Classification Accuracy \\t:\", dectree.score(X_test, y_test))\n",
    "print()\n",
    "\n",
    "# Plot the Confusion Matrix for Train and Test\n",
    "f, axes = plt.subplots(1, 2, figsize=(12, 4))\n",
    "sb.heatmap(confusion_matrix(y_train, y_train_pred),\n",
    "           annot = True, fmt=\".0f\", annot_kws={\"size\": 18}, ax = axes[0])\n",
    "sb.heatmap(confusion_matrix(y_test, y_test_pred), \n",
    "           annot = True, fmt=\".0f\", annot_kws={\"size\": 18}, ax = axes[1])"
   ]
  },
  {
   "cell_type": "code",
   "execution_count": 7,
   "id": "bd67aec6",
   "metadata": {},
   "outputs": [
    {
     "name": "stdout",
     "output_type": "stream",
     "text": [
      "The true positive rate is: 0.6144338998013683\n"
     ]
    }
   ],
   "source": [
    "CM_train = confusion_matrix(y_train, y_train_pred)\n",
    "CM_test = confusion_matrix(y_test, y_test_pred)\n",
    "\n",
    "FP = CM_test.sum(axis=0) - np.diag(CM_test)  \n",
    "FN = CM_test.sum(axis=1) - np.diag(CM_test)\n",
    "TP = np.diag(CM_test)\n",
    "TN = CM_test.sum() - (FP + FN + TP)\n",
    "\n",
    "# Sensitivity, hit rate, recall, or true positive rate\n",
    "TPR = TP/(TP+FN)\n",
    "# Specificity or true negative rate\n",
    "TNR = TN/(TN+FP) \n",
    "# Precision or positive predictive value\n",
    "PPV = TP/(TP+FP)\n",
    "# Negative predictive value\n",
    "NPV = TN/(TN+FN)\n",
    "# Fall out or false positive rate\n",
    "FPR = FP/(FP+TN)\n",
    "# False negative rate\n",
    "FNR = FN/(TP+FN)\n",
    "# False discovery rate\n",
    "FDR = FP/(TP+FP)\n",
    "\n",
    "print(f\"The true positive rate is: {TPR[1]}\")"
   ]
  },
  {
   "cell_type": "markdown",
   "id": "3dbd9c5a",
   "metadata": {},
   "source": [
    "### Using Logistic Regression"
   ]
  },
  {
   "cell_type": "code",
   "execution_count": 8,
   "id": "5aafa639",
   "metadata": {
    "scrolled": true
   },
   "outputs": [],
   "source": [
    "lr = LogisticRegression(solver = 'lbfgs', max_iter= 254972)"
   ]
  },
  {
   "cell_type": "code",
   "execution_count": 9,
   "id": "44858ec7",
   "metadata": {},
   "outputs": [
    {
     "data": {
      "text/plain": [
       "(203977, 1)"
      ]
     },
     "execution_count": 9,
     "metadata": {},
     "output_type": "execute_result"
    }
   ],
   "source": [
    "train_predictors = train.iloc[:,1:]\n",
    "train_response = train[['HeartDiseaseorAttack']]\n",
    "train_response.shape"
   ]
  },
  {
   "cell_type": "code",
   "execution_count": 10,
   "id": "f9c7d6ed",
   "metadata": {},
   "outputs": [
    {
     "data": {
      "text/plain": [
       "(50995, 1)"
      ]
     },
     "execution_count": 10,
     "metadata": {},
     "output_type": "execute_result"
    }
   ],
   "source": [
    "test_predictors = test.iloc[:,1:]\n",
    "test_response = test[['HeartDiseaseorAttack']]\n",
    "test_response.shape"
   ]
  },
  {
   "cell_type": "code",
   "execution_count": 11,
   "id": "04676bb1",
   "metadata": {},
   "outputs": [
    {
     "name": "stdout",
     "output_type": "stream",
     "text": [
      "Logistic Regression with 1 Predictor gives a score of 0.9115439485824383 for the train set.\n"
     ]
    }
   ],
   "source": [
    "lr.fit(train_predictors, train_response.values.ravel())\n",
    "print(f\"Logistic Regression with 1 Predictor gives a score of {lr.score(train_predictors, train_response)} for the train set.\")"
   ]
  },
  {
   "cell_type": "code",
   "execution_count": 12,
   "id": "ea3c1cca",
   "metadata": {
    "scrolled": true
   },
   "outputs": [
    {
     "data": {
      "text/plain": [
       "<AxesSubplot:>"
      ]
     },
     "execution_count": 12,
     "metadata": {},
     "output_type": "execute_result"
    },
    {
     "data": {
      "image/png": "[encoded data removed]",
      "text/plain": [
       "<Figure size 432x288 with 2 Axes>"
      ]
     },
     "metadata": {
      "needs_background": "light"
     },
     "output_type": "display_data"
    }
   ],
   "source": [
    "HD_train_predict = lr.predict(train_predictors)\n",
    "cm = confusion_matrix(train_response, HD_train_predict)\n",
    "sb.heatmap(cm, annot = True, fmt=\".0f\", annot_kws={\"size\": 18})"
   ]
  },
  {
   "cell_type": "code",
   "execution_count": 13,
   "id": "0504318d",
   "metadata": {},
   "outputs": [
    {
     "name": "stdout",
     "output_type": "stream",
     "text": [
      "Logistic Regression with 1 Predictor gives a score of 0.913030689283263 for the test set.\n"
     ]
    },
    {
     "data": {
      "text/plain": [
       "<AxesSubplot:>"
      ]
     },
     "execution_count": 13,
     "metadata": {},
     "output_type": "execute_result"
    },
    {
     "data": {
      "image/png": "[encoded data removed]",
      "text/plain": [
       "<Figure size 432x288 with 2 Axes>"
      ]
     },
     "metadata": {
      "needs_background": "light"
     },
     "output_type": "display_data"
    }
   ],
   "source": [
    "lr.fit(test_predictors, test_response.values.ravel())\n",
    "print(f\"Logistic Regression with 1 Predictor gives a score of {lr.score(test_predictors, test_response)} for the test set.\")\n",
    "HD_test_predict = lr.predict(test_predictors)\n",
    "cm = confusion_matrix(test_response, HD_test_predict)\n",
    "sb.heatmap(cm, annot = True, fmt=\".0f\", annot_kws={\"size\": 18})"
   ]
  },
  {
   "cell_type": "code",
   "execution_count": 14,
   "id": "65097350",
   "metadata": {},
   "outputs": [
    {
     "name": "stdout",
     "output_type": "stream",
     "text": [
      "The true positive rate is: 0.11851688369013463\n"
     ]
    }
   ],
   "source": [
    "CM_train = confusion_matrix(train_response, HD_train_predict)\n",
    "CM_test = confusion_matrix(test_response, HD_test_predict)\n",
    "\n",
    "FP = CM_test.sum(axis=0) - np.diag(CM_test)  \n",
    "FN = CM_test.sum(axis=1) - np.diag(CM_test)\n",
    "TP = np.diag(CM_test)\n",
    "TN = CM_test.sum() - (FP + FN + TP)\n",
    "\n",
    "# Sensitivity, hit rate, recall, or true positive rate\n",
    "TPR = TP/(TP+FN)\n",
    "# Specificity or true negative rate\n",
    "TNR = TN/(TN+FP) \n",
    "# Precision or positive predictive value\n",
    "PPV = TP/(TP+FP)\n",
    "# Negative predictive value\n",
    "NPV = TN/(TN+FN)\n",
    "# Fall out or false positive rate\n",
    "FPR = FP/(FP+TN)\n",
    "# False negative rate\n",
    "FNR = FN/(TP+FN)\n",
    "# False discovery rate\n",
    "FDR = FP/(TP+FP)\n",
    "\n",
    "print(f\"The true positive rate is: {TPR[1]}\")"
   ]
  },
  {
   "cell_type": "code",
   "execution_count": 15,
   "id": "d7c353f3",
   "metadata": {},
   "outputs": [
    {
     "data": {
      "text/plain": [
       "-0.14136680066673202"
      ]
     },
     "execution_count": 15,
     "metadata": {},
     "output_type": "execute_result"
    }
   ],
   "source": [
    "dectree.score(X_test, y_test) - lr.score(test_predictors, test_response)"
   ]
  },
  {
   "cell_type": "markdown",
   "id": "575b5094",
   "metadata": {},
   "source": [
    "## Using SMOTE"
   ]
  },
  {
   "cell_type": "code",
   "execution_count": 17,
   "id": "bab85c2a",
   "metadata": {},
   "outputs": [],
   "source": [
    "import imblearn\n",
    "from imblearn.over_sampling import SMOTE\n",
    "from sklearn.metrics import accuracy_score, f1_score, confusion_matrix, recall_score\n"
   ]
  },
  {
   "cell_type": "code",
   "execution_count": 19,
   "id": "2f03d83a",
   "metadata": {},
   "outputs": [
    {
     "name": "stdout",
     "output_type": "stream",
     "text": [
      "Logistic Regression with 1 Predictor gives a score of 0.7159917638984215 for the train set.\n"
     ]
    },
    {
     "data": {
      "text/plain": [
       "<AxesSubplot:>"
      ]
     },
     "execution_count": 19,
     "metadata": {},
     "output_type": "execute_result"
    },
    {
     "data": {
      "image/png": "[encoded data removed]",
      "text/plain": [
       "<Figure size 432x288 with 2 Axes>"
      ]
     },
     "metadata": {
      "needs_background": "light"
     },
     "output_type": "display_data"
    }
   ],
   "source": [
    "sm = SMOTE(sampling_strategy = 'minority')\n",
    "Xsm_train, ysm_train = sm.fit_resample(X_train, y_train)\n",
    "\n",
    "smote = LogisticRegression(solver='liblinear').fit(Xsm_train, ysm_train.values.ravel())\n",
    "\n",
    "smote_pred = smote.predict(X_test)\n",
    "\n",
    "# Checking accuracy\n",
    "print(f\"Logistic Regression with 1 Predictor gives a score of {accuracy_score(test_response, smote_pred)} for the train set.\")\n",
    "cm = confusion_matrix(test_response, smote_pred)\n",
    "sb.heatmap(cm, annot = True, fmt=\".0f\", annot_kws={\"size\": 18})"
   ]
  },
  {
   "cell_type": "code",
   "execution_count": 21,
   "id": "53e6d5b8",
   "metadata": {},
   "outputs": [
    {
     "name": "stdout",
     "output_type": "stream",
     "text": [
      "The true positive rate is: 0.7252262193776209\n"
     ]
    }
   ],
   "source": [
    "CM_test = confusion_matrix(test_response, smote_pred)\n",
    "\n",
    "FP = CM_test.sum(axis=0) - np.diag(CM_test)  \n",
    "FN = CM_test.sum(axis=1) - np.diag(CM_test)\n",
    "TP = np.diag(CM_test)\n",
    "TN = CM_test.sum() - (FP + FN + TP)\n",
    "\n",
    "# Sensitivity, hit rate, recall, or true positive rate\n",
    "TPR = TP/(TP+FN)\n",
    "# Specificity or true negative rate\n",
    "TNR = TN/(TN+FP) \n",
    "# Precision or positive predictive value\n",
    "PPV = TP/(TP+FP)\n",
    "# Negative predictive value\n",
    "NPV = TN/(TN+FN)\n",
    "# Fall out or false positive rate\n",
    "FPR = FP/(FP+TN)\n",
    "# False negative rate\n",
    "FNR = FN/(TP+FN)\n",
    "# False discovery rate\n",
    "FDR = FP/(TP+FP)\n",
    "\n",
    "print(f\"The true positive rate is: {TPR[1]}\")"
   ]
  }
 ],
 "metadata": {
  "kernelspec": {
   "display_name": "Python 3",
   "language": "python",
   "name": "python3"
  },
  "language_info": {
   "codemirror_mode": {
    "name": "ipython",
    "version": 3
   },
   "file_extension": ".py",
   "mimetype": "text/x-python",
   "name": "python",
   "nbconvert_exporter": "python",
   "pygments_lexer": "ipython3",
   "version": "3.8.8"
  }
 },
 "nbformat": 4,
 "nbformat_minor": 5
}
